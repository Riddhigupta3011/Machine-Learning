{
  "cells": [
    {
      "cell_type": "code",
      "execution_count": 1,
      "id": "aa0aa049",
      "metadata": {
        "id": "aa0aa049"
      },
      "outputs": [],
      "source": [
        "import pandas as pd\n",
        "import numpy as np\n",
        "import matplotlib.pyplot as plt\n",
        "import seaborn as sns\n",
        "import warnings\n",
        "from sklearn.model_selection import train_test_split\n",
        "from sklearn.preprocessing import StandardScaler\n",
        "from sklearn.metrics import mean_squared_error\n",
        "from sklearn.metrics import mean_absolute_error\n",
        "from sklearn.metrics import r2_score\n",
        "warnings.filterwarnings('ignore')\n",
        "%matplotlib inline\n",
        "pd.set_option('display.max_columns', 500)"
      ]
    },
    {
      "cell_type": "code",
      "execution_count": 2,
      "id": "a71e3688",
      "metadata": {
        "colab": {
          "base_uri": "https://localhost:8080/",
          "height": 485
        },
        "id": "a71e3688",
        "outputId": "2160264e-251f-4b44-d317-7c02bf8d5354"
      },
      "outputs": [
        {
          "output_type": "execute_result",
          "data": {
            "text/plain": [
              "      fixed acidity  volatile acidity  citric acid  residual sugar  chlorides  \\\n",
              "0               7.4             0.700         0.00             1.9      0.076   \n",
              "1               7.8             0.880         0.00             2.6      0.098   \n",
              "2               7.8             0.760         0.04             2.3      0.092   \n",
              "3              11.2             0.280         0.56             1.9      0.075   \n",
              "4               7.4             0.700         0.00             1.9      0.076   \n",
              "...             ...               ...          ...             ...        ...   \n",
              "1594            6.2             0.600         0.08             2.0      0.090   \n",
              "1595            5.9             0.550         0.10             2.2      0.062   \n",
              "1596            6.3             0.510         0.13             2.3      0.076   \n",
              "1597            5.9             0.645         0.12             2.0      0.075   \n",
              "1598            6.0             0.310         0.47             3.6      0.067   \n",
              "\n",
              "      free sulfur dioxide  total sulfur dioxide  density    pH  sulphates  \\\n",
              "0                    11.0                  34.0  0.99780  3.51       0.56   \n",
              "1                    25.0                  67.0  0.99680  3.20       0.68   \n",
              "2                    15.0                  54.0  0.99700  3.26       0.65   \n",
              "3                    17.0                  60.0  0.99800  3.16       0.58   \n",
              "4                    11.0                  34.0  0.99780  3.51       0.56   \n",
              "...                   ...                   ...      ...   ...        ...   \n",
              "1594                 32.0                  44.0  0.99490  3.45       0.58   \n",
              "1595                 39.0                  51.0  0.99512  3.52       0.76   \n",
              "1596                 29.0                  40.0  0.99574  3.42       0.75   \n",
              "1597                 32.0                  44.0  0.99547  3.57       0.71   \n",
              "1598                 18.0                  42.0  0.99549  3.39       0.66   \n",
              "\n",
              "      alcohol  quality  \n",
              "0         9.4        5  \n",
              "1         9.8        5  \n",
              "2         9.8        5  \n",
              "3         9.8        6  \n",
              "4         9.4        5  \n",
              "...       ...      ...  \n",
              "1594     10.5        5  \n",
              "1595     11.2        6  \n",
              "1596     11.0        6  \n",
              "1597     10.2        5  \n",
              "1598     11.0        6  \n",
              "\n",
              "[1599 rows x 12 columns]"
            ],
            "text/html": [
              "\n",
              "  <div id=\"df-e66b468e-55b0-4eb6-b35b-6bda60ac2538\">\n",
              "    <div class=\"colab-df-container\">\n",
              "      <div>\n",
              "<style scoped>\n",
              "    .dataframe tbody tr th:only-of-type {\n",
              "        vertical-align: middle;\n",
              "    }\n",
              "\n",
              "    .dataframe tbody tr th {\n",
              "        vertical-align: top;\n",
              "    }\n",
              "\n",
              "    .dataframe thead th {\n",
              "        text-align: right;\n",
              "    }\n",
              "</style>\n",
              "<table border=\"1\" class=\"dataframe\">\n",
              "  <thead>\n",
              "    <tr style=\"text-align: right;\">\n",
              "      <th></th>\n",
              "      <th>fixed acidity</th>\n",
              "      <th>volatile acidity</th>\n",
              "      <th>citric acid</th>\n",
              "      <th>residual sugar</th>\n",
              "      <th>chlorides</th>\n",
              "      <th>free sulfur dioxide</th>\n",
              "      <th>total sulfur dioxide</th>\n",
              "      <th>density</th>\n",
              "      <th>pH</th>\n",
              "      <th>sulphates</th>\n",
              "      <th>alcohol</th>\n",
              "      <th>quality</th>\n",
              "    </tr>\n",
              "  </thead>\n",
              "  <tbody>\n",
              "    <tr>\n",
              "      <th>0</th>\n",
              "      <td>7.4</td>\n",
              "      <td>0.700</td>\n",
              "      <td>0.00</td>\n",
              "      <td>1.9</td>\n",
              "      <td>0.076</td>\n",
              "      <td>11.0</td>\n",
              "      <td>34.0</td>\n",
              "      <td>0.99780</td>\n",
              "      <td>3.51</td>\n",
              "      <td>0.56</td>\n",
              "      <td>9.4</td>\n",
              "      <td>5</td>\n",
              "    </tr>\n",
              "    <tr>\n",
              "      <th>1</th>\n",
              "      <td>7.8</td>\n",
              "      <td>0.880</td>\n",
              "      <td>0.00</td>\n",
              "      <td>2.6</td>\n",
              "      <td>0.098</td>\n",
              "      <td>25.0</td>\n",
              "      <td>67.0</td>\n",
              "      <td>0.99680</td>\n",
              "      <td>3.20</td>\n",
              "      <td>0.68</td>\n",
              "      <td>9.8</td>\n",
              "      <td>5</td>\n",
              "    </tr>\n",
              "    <tr>\n",
              "      <th>2</th>\n",
              "      <td>7.8</td>\n",
              "      <td>0.760</td>\n",
              "      <td>0.04</td>\n",
              "      <td>2.3</td>\n",
              "      <td>0.092</td>\n",
              "      <td>15.0</td>\n",
              "      <td>54.0</td>\n",
              "      <td>0.99700</td>\n",
              "      <td>3.26</td>\n",
              "      <td>0.65</td>\n",
              "      <td>9.8</td>\n",
              "      <td>5</td>\n",
              "    </tr>\n",
              "    <tr>\n",
              "      <th>3</th>\n",
              "      <td>11.2</td>\n",
              "      <td>0.280</td>\n",
              "      <td>0.56</td>\n",
              "      <td>1.9</td>\n",
              "      <td>0.075</td>\n",
              "      <td>17.0</td>\n",
              "      <td>60.0</td>\n",
              "      <td>0.99800</td>\n",
              "      <td>3.16</td>\n",
              "      <td>0.58</td>\n",
              "      <td>9.8</td>\n",
              "      <td>6</td>\n",
              "    </tr>\n",
              "    <tr>\n",
              "      <th>4</th>\n",
              "      <td>7.4</td>\n",
              "      <td>0.700</td>\n",
              "      <td>0.00</td>\n",
              "      <td>1.9</td>\n",
              "      <td>0.076</td>\n",
              "      <td>11.0</td>\n",
              "      <td>34.0</td>\n",
              "      <td>0.99780</td>\n",
              "      <td>3.51</td>\n",
              "      <td>0.56</td>\n",
              "      <td>9.4</td>\n",
              "      <td>5</td>\n",
              "    </tr>\n",
              "    <tr>\n",
              "      <th>...</th>\n",
              "      <td>...</td>\n",
              "      <td>...</td>\n",
              "      <td>...</td>\n",
              "      <td>...</td>\n",
              "      <td>...</td>\n",
              "      <td>...</td>\n",
              "      <td>...</td>\n",
              "      <td>...</td>\n",
              "      <td>...</td>\n",
              "      <td>...</td>\n",
              "      <td>...</td>\n",
              "      <td>...</td>\n",
              "    </tr>\n",
              "    <tr>\n",
              "      <th>1594</th>\n",
              "      <td>6.2</td>\n",
              "      <td>0.600</td>\n",
              "      <td>0.08</td>\n",
              "      <td>2.0</td>\n",
              "      <td>0.090</td>\n",
              "      <td>32.0</td>\n",
              "      <td>44.0</td>\n",
              "      <td>0.99490</td>\n",
              "      <td>3.45</td>\n",
              "      <td>0.58</td>\n",
              "      <td>10.5</td>\n",
              "      <td>5</td>\n",
              "    </tr>\n",
              "    <tr>\n",
              "      <th>1595</th>\n",
              "      <td>5.9</td>\n",
              "      <td>0.550</td>\n",
              "      <td>0.10</td>\n",
              "      <td>2.2</td>\n",
              "      <td>0.062</td>\n",
              "      <td>39.0</td>\n",
              "      <td>51.0</td>\n",
              "      <td>0.99512</td>\n",
              "      <td>3.52</td>\n",
              "      <td>0.76</td>\n",
              "      <td>11.2</td>\n",
              "      <td>6</td>\n",
              "    </tr>\n",
              "    <tr>\n",
              "      <th>1596</th>\n",
              "      <td>6.3</td>\n",
              "      <td>0.510</td>\n",
              "      <td>0.13</td>\n",
              "      <td>2.3</td>\n",
              "      <td>0.076</td>\n",
              "      <td>29.0</td>\n",
              "      <td>40.0</td>\n",
              "      <td>0.99574</td>\n",
              "      <td>3.42</td>\n",
              "      <td>0.75</td>\n",
              "      <td>11.0</td>\n",
              "      <td>6</td>\n",
              "    </tr>\n",
              "    <tr>\n",
              "      <th>1597</th>\n",
              "      <td>5.9</td>\n",
              "      <td>0.645</td>\n",
              "      <td>0.12</td>\n",
              "      <td>2.0</td>\n",
              "      <td>0.075</td>\n",
              "      <td>32.0</td>\n",
              "      <td>44.0</td>\n",
              "      <td>0.99547</td>\n",
              "      <td>3.57</td>\n",
              "      <td>0.71</td>\n",
              "      <td>10.2</td>\n",
              "      <td>5</td>\n",
              "    </tr>\n",
              "    <tr>\n",
              "      <th>1598</th>\n",
              "      <td>6.0</td>\n",
              "      <td>0.310</td>\n",
              "      <td>0.47</td>\n",
              "      <td>3.6</td>\n",
              "      <td>0.067</td>\n",
              "      <td>18.0</td>\n",
              "      <td>42.0</td>\n",
              "      <td>0.99549</td>\n",
              "      <td>3.39</td>\n",
              "      <td>0.66</td>\n",
              "      <td>11.0</td>\n",
              "      <td>6</td>\n",
              "    </tr>\n",
              "  </tbody>\n",
              "</table>\n",
              "<p>1599 rows × 12 columns</p>\n",
              "</div>\n",
              "      <button class=\"colab-df-convert\" onclick=\"convertToInteractive('df-e66b468e-55b0-4eb6-b35b-6bda60ac2538')\"\n",
              "              title=\"Convert this dataframe to an interactive table.\"\n",
              "              style=\"display:none;\">\n",
              "        \n",
              "  <svg xmlns=\"http://www.w3.org/2000/svg\" height=\"24px\"viewBox=\"0 0 24 24\"\n",
              "       width=\"24px\">\n",
              "    <path d=\"M0 0h24v24H0V0z\" fill=\"none\"/>\n",
              "    <path d=\"M18.56 5.44l.94 2.06.94-2.06 2.06-.94-2.06-.94-.94-2.06-.94 2.06-2.06.94zm-11 1L8.5 8.5l.94-2.06 2.06-.94-2.06-.94L8.5 2.5l-.94 2.06-2.06.94zm10 10l.94 2.06.94-2.06 2.06-.94-2.06-.94-.94-2.06-.94 2.06-2.06.94z\"/><path d=\"M17.41 7.96l-1.37-1.37c-.4-.4-.92-.59-1.43-.59-.52 0-1.04.2-1.43.59L10.3 9.45l-7.72 7.72c-.78.78-.78 2.05 0 2.83L4 21.41c.39.39.9.59 1.41.59.51 0 1.02-.2 1.41-.59l7.78-7.78 2.81-2.81c.8-.78.8-2.07 0-2.86zM5.41 20L4 18.59l7.72-7.72 1.47 1.35L5.41 20z\"/>\n",
              "  </svg>\n",
              "      </button>\n",
              "      \n",
              "  <style>\n",
              "    .colab-df-container {\n",
              "      display:flex;\n",
              "      flex-wrap:wrap;\n",
              "      gap: 12px;\n",
              "    }\n",
              "\n",
              "    .colab-df-convert {\n",
              "      background-color: #E8F0FE;\n",
              "      border: none;\n",
              "      border-radius: 50%;\n",
              "      cursor: pointer;\n",
              "      display: none;\n",
              "      fill: #1967D2;\n",
              "      height: 32px;\n",
              "      padding: 0 0 0 0;\n",
              "      width: 32px;\n",
              "    }\n",
              "\n",
              "    .colab-df-convert:hover {\n",
              "      background-color: #E2EBFA;\n",
              "      box-shadow: 0px 1px 2px rgba(60, 64, 67, 0.3), 0px 1px 3px 1px rgba(60, 64, 67, 0.15);\n",
              "      fill: #174EA6;\n",
              "    }\n",
              "\n",
              "    [theme=dark] .colab-df-convert {\n",
              "      background-color: #3B4455;\n",
              "      fill: #D2E3FC;\n",
              "    }\n",
              "\n",
              "    [theme=dark] .colab-df-convert:hover {\n",
              "      background-color: #434B5C;\n",
              "      box-shadow: 0px 1px 3px 1px rgba(0, 0, 0, 0.15);\n",
              "      filter: drop-shadow(0px 1px 2px rgba(0, 0, 0, 0.3));\n",
              "      fill: #FFFFFF;\n",
              "    }\n",
              "  </style>\n",
              "\n",
              "      <script>\n",
              "        const buttonEl =\n",
              "          document.querySelector('#df-e66b468e-55b0-4eb6-b35b-6bda60ac2538 button.colab-df-convert');\n",
              "        buttonEl.style.display =\n",
              "          google.colab.kernel.accessAllowed ? 'block' : 'none';\n",
              "\n",
              "        async function convertToInteractive(key) {\n",
              "          const element = document.querySelector('#df-e66b468e-55b0-4eb6-b35b-6bda60ac2538');\n",
              "          const dataTable =\n",
              "            await google.colab.kernel.invokeFunction('convertToInteractive',\n",
              "                                                     [key], {});\n",
              "          if (!dataTable) return;\n",
              "\n",
              "          const docLinkHtml = 'Like what you see? Visit the ' +\n",
              "            '<a target=\"_blank\" href=https://colab.research.google.com/notebooks/data_table.ipynb>data table notebook</a>'\n",
              "            + ' to learn more about interactive tables.';\n",
              "          element.innerHTML = '';\n",
              "          dataTable['output_type'] = 'display_data';\n",
              "          await google.colab.output.renderOutput(dataTable, element);\n",
              "          const docLink = document.createElement('div');\n",
              "          docLink.innerHTML = docLinkHtml;\n",
              "          element.appendChild(docLink);\n",
              "        }\n",
              "      </script>\n",
              "    </div>\n",
              "  </div>\n",
              "  "
            ]
          },
          "metadata": {},
          "execution_count": 2
        }
      ],
      "source": [
        "df = pd.read_csv(\"/content/winequality-red.csv\",delimiter=';')\n",
        "df"
      ]
    },
    {
      "cell_type": "code",
      "execution_count": 3,
      "id": "bf3bad0f",
      "metadata": {
        "colab": {
          "base_uri": "https://localhost:8080/"
        },
        "id": "bf3bad0f",
        "outputId": "847ca809-6349-40f3-c28f-4267207cce0f"
      },
      "outputs": [
        {
          "output_type": "execute_result",
          "data": {
            "text/plain": [
              "(1599, 12)"
            ]
          },
          "metadata": {},
          "execution_count": 3
        }
      ],
      "source": [
        "df.shape"
      ]
    },
    {
      "cell_type": "code",
      "execution_count": 4,
      "id": "429e8d10",
      "metadata": {
        "colab": {
          "base_uri": "https://localhost:8080/"
        },
        "id": "429e8d10",
        "outputId": "92367bb9-5b12-49d7-8b24-65e6ec6095cd"
      },
      "outputs": [
        {
          "output_type": "execute_result",
          "data": {
            "text/plain": [
              "array([5, 6, 7, 4, 8, 3])"
            ]
          },
          "metadata": {},
          "execution_count": 4
        }
      ],
      "source": [
        "df[\"quality\"].unique()"
      ]
    },
    {
      "cell_type": "code",
      "execution_count": 5,
      "id": "4b18870c",
      "metadata": {
        "colab": {
          "base_uri": "https://localhost:8080/"
        },
        "id": "4b18870c",
        "outputId": "abaf8585-4564-4b42-b07b-afb0895a2248"
      },
      "outputs": [
        {
          "output_type": "execute_result",
          "data": {
            "text/plain": [
              "5    681\n",
              "6    638\n",
              "7    199\n",
              "4     53\n",
              "8     18\n",
              "3     10\n",
              "Name: quality, dtype: int64"
            ]
          },
          "metadata": {},
          "execution_count": 5
        }
      ],
      "source": [
        "df[\"quality\"].value_counts()"
      ]
    },
    {
      "cell_type": "code",
      "execution_count": 6,
      "id": "375f4452",
      "metadata": {
        "colab": {
          "base_uri": "https://localhost:8080/"
        },
        "id": "375f4452",
        "outputId": "f2001658-7b8c-47d3-91d7-dce9058e5da8"
      },
      "outputs": [
        {
          "output_type": "execute_result",
          "data": {
            "text/plain": [
              "Index(['fixed acidity', 'volatile acidity', 'citric acid', 'residual sugar',\n",
              "       'chlorides', 'free sulfur dioxide', 'total sulfur dioxide', 'density',\n",
              "       'pH', 'sulphates', 'alcohol', 'quality'],\n",
              "      dtype='object')"
            ]
          },
          "metadata": {},
          "execution_count": 6
        }
      ],
      "source": [
        "df.columns"
      ]
    },
    {
      "cell_type": "code",
      "execution_count": 7,
      "id": "29cce836",
      "metadata": {
        "colab": {
          "base_uri": "https://localhost:8080/"
        },
        "id": "29cce836",
        "outputId": "8089514a-9a17-442a-e66e-fa2ad806c641"
      },
      "outputs": [
        {
          "output_type": "stream",
          "name": "stdout",
          "text": [
            "<class 'pandas.core.frame.DataFrame'>\n",
            "RangeIndex: 1599 entries, 0 to 1598\n",
            "Data columns (total 12 columns):\n",
            " #   Column                Non-Null Count  Dtype  \n",
            "---  ------                --------------  -----  \n",
            " 0   fixed acidity         1599 non-null   float64\n",
            " 1   volatile acidity      1599 non-null   float64\n",
            " 2   citric acid           1599 non-null   float64\n",
            " 3   residual sugar        1599 non-null   float64\n",
            " 4   chlorides             1599 non-null   float64\n",
            " 5   free sulfur dioxide   1599 non-null   float64\n",
            " 6   total sulfur dioxide  1599 non-null   float64\n",
            " 7   density               1599 non-null   float64\n",
            " 8   pH                    1599 non-null   float64\n",
            " 9   sulphates             1599 non-null   float64\n",
            " 10  alcohol               1599 non-null   float64\n",
            " 11  quality               1599 non-null   int64  \n",
            "dtypes: float64(11), int64(1)\n",
            "memory usage: 150.0 KB\n"
          ]
        }
      ],
      "source": [
        "df.info()"
      ]
    },
    {
      "cell_type": "code",
      "execution_count": 8,
      "id": "58d8a776",
      "metadata": {
        "colab": {
          "base_uri": "https://localhost:8080/",
          "height": 399
        },
        "id": "58d8a776",
        "outputId": "4c2ca6ec-66ba-4a40-d383-f66ba58762d1"
      },
      "outputs": [
        {
          "output_type": "execute_result",
          "data": {
            "text/plain": [
              "       fixed acidity  volatile acidity  citric acid  residual sugar  \\\n",
              "count    1599.000000       1599.000000  1599.000000     1599.000000   \n",
              "mean        8.319637          0.527821     0.270976        2.538806   \n",
              "std         1.741096          0.179060     0.194801        1.409928   \n",
              "min         4.600000          0.120000     0.000000        0.900000   \n",
              "25%         7.100000          0.390000     0.090000        1.900000   \n",
              "50%         7.900000          0.520000     0.260000        2.200000   \n",
              "75%         9.200000          0.640000     0.420000        2.600000   \n",
              "max        15.900000          1.580000     1.000000       15.500000   \n",
              "\n",
              "         chlorides  free sulfur dioxide  total sulfur dioxide      density  \\\n",
              "count  1599.000000          1599.000000           1599.000000  1599.000000   \n",
              "mean      0.087467            15.874922             46.467792     0.996747   \n",
              "std       0.047065            10.460157             32.895324     0.001887   \n",
              "min       0.012000             1.000000              6.000000     0.990070   \n",
              "25%       0.070000             7.000000             22.000000     0.995600   \n",
              "50%       0.079000            14.000000             38.000000     0.996750   \n",
              "75%       0.090000            21.000000             62.000000     0.997835   \n",
              "max       0.611000            72.000000            289.000000     1.003690   \n",
              "\n",
              "                pH    sulphates      alcohol      quality  \n",
              "count  1599.000000  1599.000000  1599.000000  1599.000000  \n",
              "mean      3.311113     0.658149    10.422983     5.636023  \n",
              "std       0.154386     0.169507     1.065668     0.807569  \n",
              "min       2.740000     0.330000     8.400000     3.000000  \n",
              "25%       3.210000     0.550000     9.500000     5.000000  \n",
              "50%       3.310000     0.620000    10.200000     6.000000  \n",
              "75%       3.400000     0.730000    11.100000     6.000000  \n",
              "max       4.010000     2.000000    14.900000     8.000000  "
            ],
            "text/html": [
              "\n",
              "  <div id=\"df-b3448490-5af4-47b7-9a20-8eca888ea485\">\n",
              "    <div class=\"colab-df-container\">\n",
              "      <div>\n",
              "<style scoped>\n",
              "    .dataframe tbody tr th:only-of-type {\n",
              "        vertical-align: middle;\n",
              "    }\n",
              "\n",
              "    .dataframe tbody tr th {\n",
              "        vertical-align: top;\n",
              "    }\n",
              "\n",
              "    .dataframe thead th {\n",
              "        text-align: right;\n",
              "    }\n",
              "</style>\n",
              "<table border=\"1\" class=\"dataframe\">\n",
              "  <thead>\n",
              "    <tr style=\"text-align: right;\">\n",
              "      <th></th>\n",
              "      <th>fixed acidity</th>\n",
              "      <th>volatile acidity</th>\n",
              "      <th>citric acid</th>\n",
              "      <th>residual sugar</th>\n",
              "      <th>chlorides</th>\n",
              "      <th>free sulfur dioxide</th>\n",
              "      <th>total sulfur dioxide</th>\n",
              "      <th>density</th>\n",
              "      <th>pH</th>\n",
              "      <th>sulphates</th>\n",
              "      <th>alcohol</th>\n",
              "      <th>quality</th>\n",
              "    </tr>\n",
              "  </thead>\n",
              "  <tbody>\n",
              "    <tr>\n",
              "      <th>count</th>\n",
              "      <td>1599.000000</td>\n",
              "      <td>1599.000000</td>\n",
              "      <td>1599.000000</td>\n",
              "      <td>1599.000000</td>\n",
              "      <td>1599.000000</td>\n",
              "      <td>1599.000000</td>\n",
              "      <td>1599.000000</td>\n",
              "      <td>1599.000000</td>\n",
              "      <td>1599.000000</td>\n",
              "      <td>1599.000000</td>\n",
              "      <td>1599.000000</td>\n",
              "      <td>1599.000000</td>\n",
              "    </tr>\n",
              "    <tr>\n",
              "      <th>mean</th>\n",
              "      <td>8.319637</td>\n",
              "      <td>0.527821</td>\n",
              "      <td>0.270976</td>\n",
              "      <td>2.538806</td>\n",
              "      <td>0.087467</td>\n",
              "      <td>15.874922</td>\n",
              "      <td>46.467792</td>\n",
              "      <td>0.996747</td>\n",
              "      <td>3.311113</td>\n",
              "      <td>0.658149</td>\n",
              "      <td>10.422983</td>\n",
              "      <td>5.636023</td>\n",
              "    </tr>\n",
              "    <tr>\n",
              "      <th>std</th>\n",
              "      <td>1.741096</td>\n",
              "      <td>0.179060</td>\n",
              "      <td>0.194801</td>\n",
              "      <td>1.409928</td>\n",
              "      <td>0.047065</td>\n",
              "      <td>10.460157</td>\n",
              "      <td>32.895324</td>\n",
              "      <td>0.001887</td>\n",
              "      <td>0.154386</td>\n",
              "      <td>0.169507</td>\n",
              "      <td>1.065668</td>\n",
              "      <td>0.807569</td>\n",
              "    </tr>\n",
              "    <tr>\n",
              "      <th>min</th>\n",
              "      <td>4.600000</td>\n",
              "      <td>0.120000</td>\n",
              "      <td>0.000000</td>\n",
              "      <td>0.900000</td>\n",
              "      <td>0.012000</td>\n",
              "      <td>1.000000</td>\n",
              "      <td>6.000000</td>\n",
              "      <td>0.990070</td>\n",
              "      <td>2.740000</td>\n",
              "      <td>0.330000</td>\n",
              "      <td>8.400000</td>\n",
              "      <td>3.000000</td>\n",
              "    </tr>\n",
              "    <tr>\n",
              "      <th>25%</th>\n",
              "      <td>7.100000</td>\n",
              "      <td>0.390000</td>\n",
              "      <td>0.090000</td>\n",
              "      <td>1.900000</td>\n",
              "      <td>0.070000</td>\n",
              "      <td>7.000000</td>\n",
              "      <td>22.000000</td>\n",
              "      <td>0.995600</td>\n",
              "      <td>3.210000</td>\n",
              "      <td>0.550000</td>\n",
              "      <td>9.500000</td>\n",
              "      <td>5.000000</td>\n",
              "    </tr>\n",
              "    <tr>\n",
              "      <th>50%</th>\n",
              "      <td>7.900000</td>\n",
              "      <td>0.520000</td>\n",
              "      <td>0.260000</td>\n",
              "      <td>2.200000</td>\n",
              "      <td>0.079000</td>\n",
              "      <td>14.000000</td>\n",
              "      <td>38.000000</td>\n",
              "      <td>0.996750</td>\n",
              "      <td>3.310000</td>\n",
              "      <td>0.620000</td>\n",
              "      <td>10.200000</td>\n",
              "      <td>6.000000</td>\n",
              "    </tr>\n",
              "    <tr>\n",
              "      <th>75%</th>\n",
              "      <td>9.200000</td>\n",
              "      <td>0.640000</td>\n",
              "      <td>0.420000</td>\n",
              "      <td>2.600000</td>\n",
              "      <td>0.090000</td>\n",
              "      <td>21.000000</td>\n",
              "      <td>62.000000</td>\n",
              "      <td>0.997835</td>\n",
              "      <td>3.400000</td>\n",
              "      <td>0.730000</td>\n",
              "      <td>11.100000</td>\n",
              "      <td>6.000000</td>\n",
              "    </tr>\n",
              "    <tr>\n",
              "      <th>max</th>\n",
              "      <td>15.900000</td>\n",
              "      <td>1.580000</td>\n",
              "      <td>1.000000</td>\n",
              "      <td>15.500000</td>\n",
              "      <td>0.611000</td>\n",
              "      <td>72.000000</td>\n",
              "      <td>289.000000</td>\n",
              "      <td>1.003690</td>\n",
              "      <td>4.010000</td>\n",
              "      <td>2.000000</td>\n",
              "      <td>14.900000</td>\n",
              "      <td>8.000000</td>\n",
              "    </tr>\n",
              "  </tbody>\n",
              "</table>\n",
              "</div>\n",
              "      <button class=\"colab-df-convert\" onclick=\"convertToInteractive('df-b3448490-5af4-47b7-9a20-8eca888ea485')\"\n",
              "              title=\"Convert this dataframe to an interactive table.\"\n",
              "              style=\"display:none;\">\n",
              "        \n",
              "  <svg xmlns=\"http://www.w3.org/2000/svg\" height=\"24px\"viewBox=\"0 0 24 24\"\n",
              "       width=\"24px\">\n",
              "    <path d=\"M0 0h24v24H0V0z\" fill=\"none\"/>\n",
              "    <path d=\"M18.56 5.44l.94 2.06.94-2.06 2.06-.94-2.06-.94-.94-2.06-.94 2.06-2.06.94zm-11 1L8.5 8.5l.94-2.06 2.06-.94-2.06-.94L8.5 2.5l-.94 2.06-2.06.94zm10 10l.94 2.06.94-2.06 2.06-.94-2.06-.94-.94-2.06-.94 2.06-2.06.94z\"/><path d=\"M17.41 7.96l-1.37-1.37c-.4-.4-.92-.59-1.43-.59-.52 0-1.04.2-1.43.59L10.3 9.45l-7.72 7.72c-.78.78-.78 2.05 0 2.83L4 21.41c.39.39.9.59 1.41.59.51 0 1.02-.2 1.41-.59l7.78-7.78 2.81-2.81c.8-.78.8-2.07 0-2.86zM5.41 20L4 18.59l7.72-7.72 1.47 1.35L5.41 20z\"/>\n",
              "  </svg>\n",
              "      </button>\n",
              "      \n",
              "  <style>\n",
              "    .colab-df-container {\n",
              "      display:flex;\n",
              "      flex-wrap:wrap;\n",
              "      gap: 12px;\n",
              "    }\n",
              "\n",
              "    .colab-df-convert {\n",
              "      background-color: #E8F0FE;\n",
              "      border: none;\n",
              "      border-radius: 50%;\n",
              "      cursor: pointer;\n",
              "      display: none;\n",
              "      fill: #1967D2;\n",
              "      height: 32px;\n",
              "      padding: 0 0 0 0;\n",
              "      width: 32px;\n",
              "    }\n",
              "\n",
              "    .colab-df-convert:hover {\n",
              "      background-color: #E2EBFA;\n",
              "      box-shadow: 0px 1px 2px rgba(60, 64, 67, 0.3), 0px 1px 3px 1px rgba(60, 64, 67, 0.15);\n",
              "      fill: #174EA6;\n",
              "    }\n",
              "\n",
              "    [theme=dark] .colab-df-convert {\n",
              "      background-color: #3B4455;\n",
              "      fill: #D2E3FC;\n",
              "    }\n",
              "\n",
              "    [theme=dark] .colab-df-convert:hover {\n",
              "      background-color: #434B5C;\n",
              "      box-shadow: 0px 1px 3px 1px rgba(0, 0, 0, 0.15);\n",
              "      filter: drop-shadow(0px 1px 2px rgba(0, 0, 0, 0.3));\n",
              "      fill: #FFFFFF;\n",
              "    }\n",
              "  </style>\n",
              "\n",
              "      <script>\n",
              "        const buttonEl =\n",
              "          document.querySelector('#df-b3448490-5af4-47b7-9a20-8eca888ea485 button.colab-df-convert');\n",
              "        buttonEl.style.display =\n",
              "          google.colab.kernel.accessAllowed ? 'block' : 'none';\n",
              "\n",
              "        async function convertToInteractive(key) {\n",
              "          const element = document.querySelector('#df-b3448490-5af4-47b7-9a20-8eca888ea485');\n",
              "          const dataTable =\n",
              "            await google.colab.kernel.invokeFunction('convertToInteractive',\n",
              "                                                     [key], {});\n",
              "          if (!dataTable) return;\n",
              "\n",
              "          const docLinkHtml = 'Like what you see? Visit the ' +\n",
              "            '<a target=\"_blank\" href=https://colab.research.google.com/notebooks/data_table.ipynb>data table notebook</a>'\n",
              "            + ' to learn more about interactive tables.';\n",
              "          element.innerHTML = '';\n",
              "          dataTable['output_type'] = 'display_data';\n",
              "          await google.colab.output.renderOutput(dataTable, element);\n",
              "          const docLink = document.createElement('div');\n",
              "          docLink.innerHTML = docLinkHtml;\n",
              "          element.appendChild(docLink);\n",
              "        }\n",
              "      </script>\n",
              "    </div>\n",
              "  </div>\n",
              "  "
            ]
          },
          "metadata": {},
          "execution_count": 8
        }
      ],
      "source": [
        "df.describe()"
      ]
    },
    {
      "cell_type": "code",
      "execution_count": 9,
      "id": "eaab5ed1",
      "metadata": {
        "colab": {
          "base_uri": "https://localhost:8080/"
        },
        "id": "eaab5ed1",
        "outputId": "5eef04ef-8032-4da2-899d-ab6b58218e76"
      },
      "outputs": [
        {
          "output_type": "execute_result",
          "data": {
            "text/plain": [
              "fixed acidity           0\n",
              "volatile acidity        0\n",
              "citric acid             0\n",
              "residual sugar          0\n",
              "chlorides               0\n",
              "free sulfur dioxide     0\n",
              "total sulfur dioxide    0\n",
              "density                 0\n",
              "pH                      0\n",
              "sulphates               0\n",
              "alcohol                 0\n",
              "quality                 0\n",
              "dtype: int64"
            ]
          },
          "metadata": {},
          "execution_count": 9
        }
      ],
      "source": [
        "df.isna().sum()"
      ]
    },
    {
      "cell_type": "code",
      "execution_count": 10,
      "id": "c4e3be08",
      "metadata": {
        "colab": {
          "base_uri": "https://localhost:8080/"
        },
        "id": "c4e3be08",
        "outputId": "a182898e-4266-4c0f-8313-32f6ecdc1d10"
      },
      "outputs": [
        {
          "output_type": "execute_result",
          "data": {
            "text/plain": [
              "Index(['fixed acidity', 'volatile acidity', 'citric acid', 'residual sugar',\n",
              "       'chlorides', 'free sulfur dioxide', 'total sulfur dioxide', 'density',\n",
              "       'pH', 'sulphates', 'alcohol', 'quality'],\n",
              "      dtype='object')"
            ]
          },
          "metadata": {},
          "execution_count": 10
        }
      ],
      "source": [
        "df.columns"
      ]
    },
    {
      "cell_type": "code",
      "execution_count": 11,
      "id": "7b272f5e",
      "metadata": {
        "id": "7b272f5e"
      },
      "outputs": [],
      "source": [
        "df['quality'] = df['quality'].astype('int')"
      ]
    },
    {
      "cell_type": "code",
      "execution_count": 12,
      "id": "cac7b8c9",
      "metadata": {
        "colab": {
          "base_uri": "https://localhost:8080/"
        },
        "id": "cac7b8c9",
        "outputId": "785a561b-1ac1-436a-80e1-363330363d3a"
      },
      "outputs": [
        {
          "output_type": "execute_result",
          "data": {
            "text/plain": [
              "0    0.000000\n",
              "1    0.000000\n",
              "2    0.200000\n",
              "3    0.748331\n",
              "4    0.000000\n",
              "Name: citric acid, dtype: float64"
            ]
          },
          "metadata": {},
          "execution_count": 12
        }
      ],
      "source": [
        "df['citric acid'] = np.sqrt(df['citric acid'])\n",
        "df['citric acid'].head()"
      ]
    },
    {
      "cell_type": "code",
      "execution_count": 13,
      "id": "139eddd9",
      "metadata": {
        "colab": {
          "base_uri": "https://localhost:8080/",
          "height": 497
        },
        "id": "139eddd9",
        "outputId": "4f09cc29-acd8-43a4-ab60-a413f88d84fb"
      },
      "outputs": [
        {
          "output_type": "display_data",
          "data": {
            "text/plain": [
              "<Figure size 864x576 with 1 Axes>"
            ],
            "image/png": "[encoded data removed]"
          },
          "metadata": {
            "needs_background": "light"
          }
        }
      ],
      "source": [
        "plt.figure(figsize=(12,8))\n",
        "sns.histplot(data = df, x='citric acid',kde=True, bins=30, color='blue')\n",
        "plt.show()"
      ]
    },
    {
      "cell_type": "code",
      "execution_count": 14,
      "id": "4bd77b71",
      "metadata": {
        "colab": {
          "base_uri": "https://localhost:8080/"
        },
        "id": "4bd77b71",
        "outputId": "dddb5e78-9cd4-4ab2-ffae-c6f29378dc9d"
      },
      "outputs": [
        {
          "output_type": "execute_result",
          "data": {
            "text/plain": [
              "0    3.316625\n",
              "1    5.000000\n",
              "2    3.872983\n",
              "3    4.123106\n",
              "4    3.316625\n",
              "Name: free sulfur dioxide, dtype: float64"
            ]
          },
          "metadata": {},
          "execution_count": 14
        }
      ],
      "source": [
        "df['free sulfur dioxide'] = np.sqrt(df['free sulfur dioxide'])\n",
        "df['free sulfur dioxide'].head()"
      ]
    },
    {
      "cell_type": "code",
      "execution_count": 15,
      "id": "3e80f91b",
      "metadata": {
        "colab": {
          "base_uri": "https://localhost:8080/",
          "height": 497
        },
        "id": "3e80f91b",
        "outputId": "9ee09251-d775-4971-86d1-181ab4542d5f"
      },
      "outputs": [
        {
          "output_type": "display_data",
          "data": {
            "text/plain": [
              "<Figure size 864x576 with 1 Axes>"
            ],
            "image/png": "[encoded data removed]"
          },
          "metadata": {
            "needs_background": "light"
          }
        }
      ],
      "source": [
        "plt.figure(figsize=(12,8))\n",
        "sns.histplot(data = df, x='free sulfur dioxide',kde=True, bins=30,color='blue')\n",
        "plt.show();"
      ]
    },
    {
      "cell_type": "code",
      "execution_count": 16,
      "id": "584c134d",
      "metadata": {
        "colab": {
          "base_uri": "https://localhost:8080/"
        },
        "id": "584c134d",
        "outputId": "8727f196-74bc-4c86-c35b-f12d8212578e"
      },
      "outputs": [
        {
          "output_type": "execute_result",
          "data": {
            "text/plain": [
              "0    5.830952\n",
              "1    8.185353\n",
              "2    7.348469\n",
              "3    7.745967\n",
              "4    5.830952\n",
              "Name: total sulfur dioxide, dtype: float64"
            ]
          },
          "metadata": {},
          "execution_count": 16
        }
      ],
      "source": [
        "df['total sulfur dioxide'] = np.sqrt(df['total sulfur dioxide'])\n",
        "df['total sulfur dioxide'].head()"
      ]
    },
    {
      "cell_type": "code",
      "execution_count": 17,
      "id": "17199803",
      "metadata": {
        "colab": {
          "base_uri": "https://localhost:8080/",
          "height": 497
        },
        "id": "17199803",
        "outputId": "84374dbb-93a5-4a45-f62a-d74afd2f1d62"
      },
      "outputs": [
        {
          "output_type": "display_data",
          "data": {
            "text/plain": [
              "<Figure size 864x576 with 1 Axes>"
            ],
            "image/png": "[encoded data removed]"
          },
          "metadata": {
            "needs_background": "light"
          }
        }
      ],
      "source": [
        "plt.figure(figsize=(12,8))\n",
        "sns.histplot(data = df, x='total sulfur dioxide',kde=True, bins=30,color='blue')\n",
        "plt.show()"
      ]
    },
    {
      "cell_type": "code",
      "execution_count": 18,
      "id": "8af54667",
      "metadata": {
        "colab": {
          "base_uri": "https://localhost:8080/"
        },
        "id": "8af54667",
        "outputId": "e9fb023a-2d6d-472a-a784-440cdebc100d"
      },
      "outputs": [
        {
          "output_type": "execute_result",
          "data": {
            "text/plain": [
              "0    2.240710\n",
              "1    2.282382\n",
              "2    2.282382\n",
              "3    2.282382\n",
              "4    2.240710\n",
              "Name: alcohol, dtype: float64"
            ]
          },
          "metadata": {},
          "execution_count": 18
        }
      ],
      "source": [
        "df['alcohol'] = np.log(df['alcohol'])\n",
        "df['alcohol'].head()"
      ]
    },
    {
      "cell_type": "code",
      "execution_count": 19,
      "id": "1342200c",
      "metadata": {
        "colab": {
          "base_uri": "https://localhost:8080/",
          "height": 497
        },
        "id": "1342200c",
        "outputId": "c06e9146-158e-4f25-f24a-1486c6ea0062"
      },
      "outputs": [
        {
          "output_type": "display_data",
          "data": {
            "text/plain": [
              "<Figure size 864x576 with 1 Axes>"
            ],
            "image/png": "[encoded data removed]"
          },
          "metadata": {
            "needs_background": "light"
          }
        }
      ],
      "source": [
        "plt.figure(figsize=(12,8))\n",
        "sns.histplot(data = df, x='alcohol',kde=True, bins=30, color='blue')\n",
        "plt.show();"
      ]
    },
    {
      "cell_type": "code",
      "execution_count": 20,
      "id": "f1c06e8e",
      "metadata": {
        "colab": {
          "base_uri": "https://localhost:8080/",
          "height": 626
        },
        "id": "f1c06e8e",
        "outputId": "fb06c897-411f-4d9e-feeb-9917c4abc9ba"
      },
      "outputs": [
        {
          "output_type": "execute_result",
          "data": {
            "text/plain": [
              "                      fixed acidity  volatile acidity  citric acid  \\\n",
              "fixed acidity              1.000000         -0.256131     0.615564   \n",
              "volatile acidity          -0.256131          1.000000    -0.557720   \n",
              "citric acid                0.615564         -0.557720     1.000000   \n",
              "residual sugar             0.114777          0.001918     0.134923   \n",
              "chlorides                  0.093705          0.061298     0.163771   \n",
              "free sulfur dioxide       -0.170652          0.001242    -0.046351   \n",
              "total sulfur dioxide      -0.118819          0.077561     0.076331   \n",
              "density                    0.668047          0.022026     0.338766   \n",
              "pH                        -0.682978          0.234937    -0.538733   \n",
              "sulphates                  0.183006         -0.260987     0.284239   \n",
              "alcohol                   -0.057959         -0.201444     0.064430   \n",
              "quality                    0.124052         -0.390558     0.206682   \n",
              "\n",
              "                      residual sugar  chlorides  free sulfur dioxide  \\\n",
              "fixed acidity               0.114777   0.093705            -0.170652   \n",
              "volatile acidity            0.001918   0.061298             0.001242   \n",
              "citric acid                 0.134923   0.163771            -0.046351   \n",
              "residual sugar              1.000000   0.055610             0.145921   \n",
              "chlorides                   0.055610   1.000000            -0.000676   \n",
              "free sulfur dioxide         0.145921  -0.000676             1.000000   \n",
              "total sulfur dioxide        0.177869   0.056220             0.739076   \n",
              "density                     0.355283   0.200632            -0.033398   \n",
              "pH                         -0.085652  -0.265026             0.085497   \n",
              "sulphates                   0.005527   0.371260             0.055537   \n",
              "alcohol                     0.039034  -0.225791            -0.077772   \n",
              "quality                     0.013732  -0.128907            -0.051474   \n",
              "\n",
              "                      total sulfur dioxide   density        pH  sulphates  \\\n",
              "fixed acidity                    -0.118819  0.668047 -0.682978   0.183006   \n",
              "volatile acidity                  0.077561  0.022026  0.234937  -0.260987   \n",
              "citric acid                       0.076331  0.338766 -0.538733   0.284239   \n",
              "residual sugar                    0.177869  0.355283 -0.085652   0.005527   \n",
              "chlorides                         0.056220  0.200632 -0.265026   0.371260   \n",
              "free sulfur dioxide               0.739076 -0.033398  0.085497   0.055537   \n",
              "total sulfur dioxide              1.000000  0.089913 -0.040075   0.055978   \n",
              "density                           0.089913  1.000000 -0.341699   0.148506   \n",
              "pH                               -0.040075 -0.341699  1.000000  -0.196648   \n",
              "sulphates                         0.055978  0.148506 -0.196648   1.000000   \n",
              "alcohol                          -0.230976 -0.490948  0.206209   0.093669   \n",
              "quality                          -0.184192 -0.174919 -0.057731   0.251397   \n",
              "\n",
              "                       alcohol   quality  \n",
              "fixed acidity        -0.057959  0.124052  \n",
              "volatile acidity     -0.201444 -0.390558  \n",
              "citric acid           0.064430  0.206682  \n",
              "residual sugar        0.039034  0.013732  \n",
              "chlorides            -0.225791 -0.128907  \n",
              "free sulfur dioxide  -0.077772 -0.051474  \n",
              "total sulfur dioxide -0.230976 -0.184192  \n",
              "density              -0.490948 -0.174919  \n",
              "pH                    0.206209 -0.057731  \n",
              "sulphates             0.093669  0.251397  \n",
              "alcohol               1.000000  0.476981  \n",
              "quality               0.476981  1.000000  "
            ],
            "text/html": [
              "\n",
              "  <div id=\"df-2dc40573-0f95-4809-8e71-147fe8500865\">\n",
              "    <div class=\"colab-df-container\">\n",
              "      <div>\n",
              "<style scoped>\n",
              "    .dataframe tbody tr th:only-of-type {\n",
              "        vertical-align: middle;\n",
              "    }\n",
              "\n",
              "    .dataframe tbody tr th {\n",
              "        vertical-align: top;\n",
              "    }\n",
              "\n",
              "    .dataframe thead th {\n",
              "        text-align: right;\n",
              "    }\n",
              "</style>\n",
              "<table border=\"1\" class=\"dataframe\">\n",
              "  <thead>\n",
              "    <tr style=\"text-align: right;\">\n",
              "      <th></th>\n",
              "      <th>fixed acidity</th>\n",
              "      <th>volatile acidity</th>\n",
              "      <th>citric acid</th>\n",
              "      <th>residual sugar</th>\n",
              "      <th>chlorides</th>\n",
              "      <th>free sulfur dioxide</th>\n",
              "      <th>total sulfur dioxide</th>\n",
              "      <th>density</th>\n",
              "      <th>pH</th>\n",
              "      <th>sulphates</th>\n",
              "      <th>alcohol</th>\n",
              "      <th>quality</th>\n",
              "    </tr>\n",
              "  </thead>\n",
              "  <tbody>\n",
              "    <tr>\n",
              "      <th>fixed acidity</th>\n",
              "      <td>1.000000</td>\n",
              "      <td>-0.256131</td>\n",
              "      <td>0.615564</td>\n",
              "      <td>0.114777</td>\n",
              "      <td>0.093705</td>\n",
              "      <td>-0.170652</td>\n",
              "      <td>-0.118819</td>\n",
              "      <td>0.668047</td>\n",
              "      <td>-0.682978</td>\n",
              "      <td>0.183006</td>\n",
              "      <td>-0.057959</td>\n",
              "      <td>0.124052</td>\n",
              "    </tr>\n",
              "    <tr>\n",
              "      <th>volatile acidity</th>\n",
              "      <td>-0.256131</td>\n",
              "      <td>1.000000</td>\n",
              "      <td>-0.557720</td>\n",
              "      <td>0.001918</td>\n",
              "      <td>0.061298</td>\n",
              "      <td>0.001242</td>\n",
              "      <td>0.077561</td>\n",
              "      <td>0.022026</td>\n",
              "      <td>0.234937</td>\n",
              "      <td>-0.260987</td>\n",
              "      <td>-0.201444</td>\n",
              "      <td>-0.390558</td>\n",
              "    </tr>\n",
              "    <tr>\n",
              "      <th>citric acid</th>\n",
              "      <td>0.615564</td>\n",
              "      <td>-0.557720</td>\n",
              "      <td>1.000000</td>\n",
              "      <td>0.134923</td>\n",
              "      <td>0.163771</td>\n",
              "      <td>-0.046351</td>\n",
              "      <td>0.076331</td>\n",
              "      <td>0.338766</td>\n",
              "      <td>-0.538733</td>\n",
              "      <td>0.284239</td>\n",
              "      <td>0.064430</td>\n",
              "      <td>0.206682</td>\n",
              "    </tr>\n",
              "    <tr>\n",
              "      <th>residual sugar</th>\n",
              "      <td>0.114777</td>\n",
              "      <td>0.001918</td>\n",
              "      <td>0.134923</td>\n",
              "      <td>1.000000</td>\n",
              "      <td>0.055610</td>\n",
              "      <td>0.145921</td>\n",
              "      <td>0.177869</td>\n",
              "      <td>0.355283</td>\n",
              "      <td>-0.085652</td>\n",
              "      <td>0.005527</td>\n",
              "      <td>0.039034</td>\n",
              "      <td>0.013732</td>\n",
              "    </tr>\n",
              "    <tr>\n",
              "      <th>chlorides</th>\n",
              "      <td>0.093705</td>\n",
              "      <td>0.061298</td>\n",
              "      <td>0.163771</td>\n",
              "      <td>0.055610</td>\n",
              "      <td>1.000000</td>\n",
              "      <td>-0.000676</td>\n",
              "      <td>0.056220</td>\n",
              "      <td>0.200632</td>\n",
              "      <td>-0.265026</td>\n",
              "      <td>0.371260</td>\n",
              "      <td>-0.225791</td>\n",
              "      <td>-0.128907</td>\n",
              "    </tr>\n",
              "    <tr>\n",
              "      <th>free sulfur dioxide</th>\n",
              "      <td>-0.170652</td>\n",
              "      <td>0.001242</td>\n",
              "      <td>-0.046351</td>\n",
              "      <td>0.145921</td>\n",
              "      <td>-0.000676</td>\n",
              "      <td>1.000000</td>\n",
              "      <td>0.739076</td>\n",
              "      <td>-0.033398</td>\n",
              "      <td>0.085497</td>\n",
              "      <td>0.055537</td>\n",
              "      <td>-0.077772</td>\n",
              "      <td>-0.051474</td>\n",
              "    </tr>\n",
              "    <tr>\n",
              "      <th>total sulfur dioxide</th>\n",
              "      <td>-0.118819</td>\n",
              "      <td>0.077561</td>\n",
              "      <td>0.076331</td>\n",
              "      <td>0.177869</td>\n",
              "      <td>0.056220</td>\n",
              "      <td>0.739076</td>\n",
              "      <td>1.000000</td>\n",
              "      <td>0.089913</td>\n",
              "      <td>-0.040075</td>\n",
              "      <td>0.055978</td>\n",
              "      <td>-0.230976</td>\n",
              "      <td>-0.184192</td>\n",
              "    </tr>\n",
              "    <tr>\n",
              "      <th>density</th>\n",
              "      <td>0.668047</td>\n",
              "      <td>0.022026</td>\n",
              "      <td>0.338766</td>\n",
              "      <td>0.355283</td>\n",
              "      <td>0.200632</td>\n",
              "      <td>-0.033398</td>\n",
              "      <td>0.089913</td>\n",
              "      <td>1.000000</td>\n",
              "      <td>-0.341699</td>\n",
              "      <td>0.148506</td>\n",
              "      <td>-0.490948</td>\n",
              "      <td>-0.174919</td>\n",
              "    </tr>\n",
              "    <tr>\n",
              "      <th>pH</th>\n",
              "      <td>-0.682978</td>\n",
              "      <td>0.234937</td>\n",
              "      <td>-0.538733</td>\n",
              "      <td>-0.085652</td>\n",
              "      <td>-0.265026</td>\n",
              "      <td>0.085497</td>\n",
              "      <td>-0.040075</td>\n",
              "      <td>-0.341699</td>\n",
              "      <td>1.000000</td>\n",
              "      <td>-0.196648</td>\n",
              "      <td>0.206209</td>\n",
              "      <td>-0.057731</td>\n",
              "    </tr>\n",
              "    <tr>\n",
              "      <th>sulphates</th>\n",
              "      <td>0.183006</td>\n",
              "      <td>-0.260987</td>\n",
              "      <td>0.284239</td>\n",
              "      <td>0.005527</td>\n",
              "      <td>0.371260</td>\n",
              "      <td>0.055537</td>\n",
              "      <td>0.055978</td>\n",
              "      <td>0.148506</td>\n",
              "      <td>-0.196648</td>\n",
              "      <td>1.000000</td>\n",
              "      <td>0.093669</td>\n",
              "      <td>0.251397</td>\n",
              "    </tr>\n",
              "    <tr>\n",
              "      <th>alcohol</th>\n",
              "      <td>-0.057959</td>\n",
              "      <td>-0.201444</td>\n",
              "      <td>0.064430</td>\n",
              "      <td>0.039034</td>\n",
              "      <td>-0.225791</td>\n",
              "      <td>-0.077772</td>\n",
              "      <td>-0.230976</td>\n",
              "      <td>-0.490948</td>\n",
              "      <td>0.206209</td>\n",
              "      <td>0.093669</td>\n",
              "      <td>1.000000</td>\n",
              "      <td>0.476981</td>\n",
              "    </tr>\n",
              "    <tr>\n",
              "      <th>quality</th>\n",
              "      <td>0.124052</td>\n",
              "      <td>-0.390558</td>\n",
              "      <td>0.206682</td>\n",
              "      <td>0.013732</td>\n",
              "      <td>-0.128907</td>\n",
              "      <td>-0.051474</td>\n",
              "      <td>-0.184192</td>\n",
              "      <td>-0.174919</td>\n",
              "      <td>-0.057731</td>\n",
              "      <td>0.251397</td>\n",
              "      <td>0.476981</td>\n",
              "      <td>1.000000</td>\n",
              "    </tr>\n",
              "  </tbody>\n",
              "</table>\n",
              "</div>\n",
              "      <button class=\"colab-df-convert\" onclick=\"convertToInteractive('df-2dc40573-0f95-4809-8e71-147fe8500865')\"\n",
              "              title=\"Convert this dataframe to an interactive table.\"\n",
              "              style=\"display:none;\">\n",
              "        \n",
              "  <svg xmlns=\"http://www.w3.org/2000/svg\" height=\"24px\"viewBox=\"0 0 24 24\"\n",
              "       width=\"24px\">\n",
              "    <path d=\"M0 0h24v24H0V0z\" fill=\"none\"/>\n",
              "    <path d=\"M18.56 5.44l.94 2.06.94-2.06 2.06-.94-2.06-.94-.94-2.06-.94 2.06-2.06.94zm-11 1L8.5 8.5l.94-2.06 2.06-.94-2.06-.94L8.5 2.5l-.94 2.06-2.06.94zm10 10l.94 2.06.94-2.06 2.06-.94-2.06-.94-.94-2.06-.94 2.06-2.06.94z\"/><path d=\"M17.41 7.96l-1.37-1.37c-.4-.4-.92-.59-1.43-.59-.52 0-1.04.2-1.43.59L10.3 9.45l-7.72 7.72c-.78.78-.78 2.05 0 2.83L4 21.41c.39.39.9.59 1.41.59.51 0 1.02-.2 1.41-.59l7.78-7.78 2.81-2.81c.8-.78.8-2.07 0-2.86zM5.41 20L4 18.59l7.72-7.72 1.47 1.35L5.41 20z\"/>\n",
              "  </svg>\n",
              "      </button>\n",
              "      \n",
              "  <style>\n",
              "    .colab-df-container {\n",
              "      display:flex;\n",
              "      flex-wrap:wrap;\n",
              "      gap: 12px;\n",
              "    }\n",
              "\n",
              "    .colab-df-convert {\n",
              "      background-color: #E8F0FE;\n",
              "      border: none;\n",
              "      border-radius: 50%;\n",
              "      cursor: pointer;\n",
              "      display: none;\n",
              "      fill: #1967D2;\n",
              "      height: 32px;\n",
              "      padding: 0 0 0 0;\n",
              "      width: 32px;\n",
              "    }\n",
              "\n",
              "    .colab-df-convert:hover {\n",
              "      background-color: #E2EBFA;\n",
              "      box-shadow: 0px 1px 2px rgba(60, 64, 67, 0.3), 0px 1px 3px 1px rgba(60, 64, 67, 0.15);\n",
              "      fill: #174EA6;\n",
              "    }\n",
              "\n",
              "    [theme=dark] .colab-df-convert {\n",
              "      background-color: #3B4455;\n",
              "      fill: #D2E3FC;\n",
              "    }\n",
              "\n",
              "    [theme=dark] .colab-df-convert:hover {\n",
              "      background-color: #434B5C;\n",
              "      box-shadow: 0px 1px 3px 1px rgba(0, 0, 0, 0.15);\n",
              "      filter: drop-shadow(0px 1px 2px rgba(0, 0, 0, 0.3));\n",
              "      fill: #FFFFFF;\n",
              "    }\n",
              "  </style>\n",
              "\n",
              "      <script>\n",
              "        const buttonEl =\n",
              "          document.querySelector('#df-2dc40573-0f95-4809-8e71-147fe8500865 button.colab-df-convert');\n",
              "        buttonEl.style.display =\n",
              "          google.colab.kernel.accessAllowed ? 'block' : 'none';\n",
              "\n",
              "        async function convertToInteractive(key) {\n",
              "          const element = document.querySelector('#df-2dc40573-0f95-4809-8e71-147fe8500865');\n",
              "          const dataTable =\n",
              "            await google.colab.kernel.invokeFunction('convertToInteractive',\n",
              "                                                     [key], {});\n",
              "          if (!dataTable) return;\n",
              "\n",
              "          const docLinkHtml = 'Like what you see? Visit the ' +\n",
              "            '<a target=\"_blank\" href=https://colab.research.google.com/notebooks/data_table.ipynb>data table notebook</a>'\n",
              "            + ' to learn more about interactive tables.';\n",
              "          element.innerHTML = '';\n",
              "          dataTable['output_type'] = 'display_data';\n",
              "          await google.colab.output.renderOutput(dataTable, element);\n",
              "          const docLink = document.createElement('div');\n",
              "          docLink.innerHTML = docLinkHtml;\n",
              "          element.appendChild(docLink);\n",
              "        }\n",
              "      </script>\n",
              "    </div>\n",
              "  </div>\n",
              "  "
            ]
          },
          "metadata": {},
          "execution_count": 20
        }
      ],
      "source": [
        "df.corr()"
      ]
    },
    {
      "cell_type": "code",
      "execution_count": 21,
      "id": "768722b5",
      "metadata": {
        "colab": {
          "base_uri": "https://localhost:8080/",
          "height": 969
        },
        "id": "768722b5",
        "outputId": "3779bf55-97cb-4478-eb03-1701c0f510c2"
      },
      "outputs": [
        {
          "output_type": "execute_result",
          "data": {
            "text/plain": [
              "<matplotlib.axes._subplots.AxesSubplot at 0x7f8f96ac0310>"
            ]
          },
          "metadata": {},
          "execution_count": 21
        },
        {
          "output_type": "display_data",
          "data": {
            "text/plain": [
              "<Figure size 1080x1080 with 2 Axes>"
            ],
            "image/png": "[encoded data removed]"
          },
          "metadata": {
            "needs_background": "light"
          }
        }
      ],
      "source": [
        "correlation_matrix = df.corr().round(2)\n",
        "fig, ax = plt.subplots(figsize=(15,15))   \n",
        "sns.heatmap(data=correlation_matrix, cmap=\"YlGnBu\", annot=True,linewidths=0.30)"
      ]
    },
    {
      "cell_type": "code",
      "execution_count": 22,
      "id": "7a3402c6",
      "metadata": {
        "id": "7a3402c6"
      },
      "outputs": [],
      "source": [
        "x=df.drop(\"quality\",axis=1)"
      ]
    },
    {
      "cell_type": "code",
      "execution_count": 23,
      "id": "e46b6650",
      "metadata": {
        "id": "e46b6650"
      },
      "outputs": [],
      "source": [
        "y=df[\"quality\"]"
      ]
    },
    {
      "cell_type": "code",
      "execution_count": 24,
      "id": "c67cde0f",
      "metadata": {
        "id": "c67cde0f"
      },
      "outputs": [],
      "source": [
        "x_train, x_test, y_train, y_test = train_test_split(x, y, test_size = 0.33, random_state=5)"
      ]
    },
    {
      "cell_type": "code",
      "execution_count": 25,
      "id": "e107330f",
      "metadata": {
        "colab": {
          "base_uri": "https://localhost:8080/"
        },
        "id": "e107330f",
        "outputId": "0df7bc79-b0a7-47c5-edbf-144b80cbb3dd"
      },
      "outputs": [
        {
          "output_type": "stream",
          "name": "stdout",
          "text": [
            "(1071, 11)\n",
            "(528, 11)\n"
          ]
        }
      ],
      "source": [
        "print(x_train.shape)\n",
        "print(x_test.shape)"
      ]
    },
    {
      "cell_type": "code",
      "execution_count": 26,
      "id": "4f454ab8",
      "metadata": {
        "colab": {
          "base_uri": "https://localhost:8080/"
        },
        "id": "4f454ab8",
        "outputId": "e024477d-d2ba-4425-e3f9-4dbdaa449eec"
      },
      "outputs": [
        {
          "output_type": "stream",
          "name": "stdout",
          "text": [
            "(1071,)\n",
            "(528,)\n"
          ]
        }
      ],
      "source": [
        "print(y_train.shape)\n",
        "print(y_test.shape)"
      ]
    },
    {
      "cell_type": "code",
      "execution_count": 27,
      "id": "4019b4ab",
      "metadata": {
        "id": "4019b4ab"
      },
      "outputs": [],
      "source": [
        "scaler = StandardScaler()"
      ]
    },
    {
      "cell_type": "code",
      "execution_count": 28,
      "id": "d3c228bd",
      "metadata": {
        "colab": {
          "base_uri": "https://localhost:8080/"
        },
        "id": "d3c228bd",
        "outputId": "d34f2633-f5f1-457e-f005-34d60639ee99"
      },
      "outputs": [
        {
          "output_type": "execute_result",
          "data": {
            "text/plain": [
              "array([[-0.67922262,  0.59626068, -2.01235722, ...,  0.41210014,\n",
              "        -0.46806601, -1.45737161],\n",
              "       [ 1.8302001 , -0.30790489,  0.84071048, ...,  0.47742862,\n",
              "         1.11903978, -0.47792044],\n",
              "       [-0.39406095,  2.46110218, -0.08881937, ...,  0.34677165,\n",
              "        -1.26161891,  0.51096301],\n",
              "       ...,\n",
              "       [-1.07844896, -0.75998768,  0.05040732, ...,  0.86939954,\n",
              "        -0.63811306,  1.58426377],\n",
              "       [-1.1354813 , -0.81649802, -0.40300999, ...,  0.86939954,\n",
              "        -0.07128957,  0.69781287],\n",
              "       [ 1.6591031 , -1.04253942,  0.87294956, ..., -2.39702474,\n",
              "        -0.01460722, -1.23150627]])"
            ]
          },
          "metadata": {},
          "execution_count": 28
        }
      ],
      "source": [
        "scaler.fit_transform(x_train)\n",
        "scaler.transform(x_test)"
      ]
    },
    {
      "cell_type": "code",
      "execution_count": 29,
      "id": "6a4e6eaf",
      "metadata": {
        "id": "6a4e6eaf"
      },
      "outputs": [],
      "source": [
        "from sklearn.svm import SVC\n",
        "svc = SVC()"
      ]
    },
    {
      "cell_type": "code",
      "execution_count": 30,
      "id": "a89c696a",
      "metadata": {
        "colab": {
          "base_uri": "https://localhost:8080/"
        },
        "id": "a89c696a",
        "outputId": "89d0fa27-caef-47cb-8d7c-a8ddb1993a54"
      },
      "outputs": [
        {
          "output_type": "execute_result",
          "data": {
            "text/plain": [
              "SVC()"
            ]
          },
          "metadata": {},
          "execution_count": 30
        }
      ],
      "source": [
        "svc.fit(x_train, y_train)"
      ]
    },
    {
      "cell_type": "code",
      "execution_count": 31,
      "id": "3d2d0974",
      "metadata": {
        "id": "3d2d0974"
      },
      "outputs": [],
      "source": [
        "import pickle\n",
        "pickle.dump(svc, open('svc.pkl', 'wb'))"
      ]
    },
    {
      "cell_type": "code",
      "execution_count": 32,
      "id": "eba6b066",
      "metadata": {
        "colab": {
          "base_uri": "https://localhost:8080/"
        },
        "id": "eba6b066",
        "outputId": "fc13c82a-62b6-46e7-a5f9-cfe821a20434"
      },
      "outputs": [
        {
          "output_type": "execute_result",
          "data": {
            "text/plain": [
              "array([5, 6, 5, ..., 6, 6, 6])"
            ]
          },
          "metadata": {},
          "execution_count": 32
        }
      ],
      "source": [
        "svc.predict(x_train)"
      ]
    },
    {
      "cell_type": "code",
      "execution_count": 33,
      "id": "9aae0185",
      "metadata": {
        "id": "9aae0185"
      },
      "outputs": [],
      "source": [
        "y_pred_svc = svc.predict(x_test)"
      ]
    },
    {
      "cell_type": "code",
      "execution_count": 34,
      "id": "365f17d2",
      "metadata": {
        "id": "365f17d2"
      },
      "outputs": [],
      "source": [
        "from sklearn.metrics import classification_report, confusion_matrix"
      ]
    },
    {
      "cell_type": "code",
      "execution_count": 35,
      "id": "bc690831",
      "metadata": {
        "colab": {
          "base_uri": "https://localhost:8080/"
        },
        "id": "bc690831",
        "outputId": "8503178d-bdee-46e3-8a81-2214a1ebc1b8"
      },
      "outputs": [
        {
          "output_type": "stream",
          "name": "stdout",
          "text": [
            "              precision    recall  f1-score   support\n",
            "\n",
            "           3       0.00      0.00      0.00         5\n",
            "           4       0.00      0.00      0.00        13\n",
            "           5       0.71      0.42      0.52       236\n",
            "           6       0.43      0.85      0.57       196\n",
            "           7       0.00      0.00      0.00        71\n",
            "           8       0.00      0.00      0.00         7\n",
            "\n",
            "    accuracy                           0.50       528\n",
            "   macro avg       0.19      0.21      0.18       528\n",
            "weighted avg       0.48      0.50      0.44       528\n",
            "\n"
          ]
        }
      ],
      "source": [
        "print(classification_report(y_test,y_pred_svc))"
      ]
    },
    {
      "cell_type": "code",
      "execution_count": 36,
      "id": "31e8767b",
      "metadata": {
        "colab": {
          "base_uri": "https://localhost:8080/"
        },
        "id": "31e8767b",
        "outputId": "69aeac8a-4212-4657-c51b-732ceeedde26"
      },
      "outputs": [
        {
          "output_type": "execute_result",
          "data": {
            "text/plain": [
              "array([[  0,   0,   0,   5,   0,   0],\n",
              "       [  0,   0,   2,  11,   0,   0],\n",
              "       [  0,   0,  98, 138,   0,   0],\n",
              "       [  0,   0,  30, 166,   0,   0],\n",
              "       [  0,   0,   7,  64,   0,   0],\n",
              "       [  0,   0,   1,   6,   0,   0]])"
            ]
          },
          "metadata": {},
          "execution_count": 36
        }
      ],
      "source": [
        "confusion_matrix(y_test,y_pred_svc)"
      ]
    },
    {
      "cell_type": "code",
      "execution_count": 37,
      "id": "7119a1e9",
      "metadata": {
        "id": "7119a1e9"
      },
      "outputs": [],
      "source": [
        "from sklearn.model_selection import GridSearchCV"
      ]
    },
    {
      "cell_type": "code",
      "execution_count": 38,
      "id": "275902fb",
      "metadata": {
        "id": "275902fb"
      },
      "outputs": [],
      "source": [
        "param_grid = {'C': [0.1, 1, 10, 100], 'gamma': [1, 0.1, 0.01, 0.001],'kernel': ['linear', 'rbf']}\n",
        "model = GridSearchCV(svc,param_grid,scoring = \"neg_mean_squared_error\",cv = 5,verbose=3)"
      ]
    },
    {
      "cell_type": "code",
      "execution_count": 39,
      "id": "da7b7ade",
      "metadata": {
        "colab": {
          "base_uri": "https://localhost:8080/"
        },
        "id": "da7b7ade",
        "outputId": "17a5ddbe-6bac-461e-a829-8e7aef8d902e"
      },
      "outputs": [
        {
          "output_type": "stream",
          "name": "stdout",
          "text": [
            "Fitting 5 folds for each of 32 candidates, totalling 160 fits\n",
            "[CV 1/5] END ....C=0.1, gamma=1, kernel=linear;, score=-0.614 total time=   0.1s\n",
            "[CV 2/5] END ....C=0.1, gamma=1, kernel=linear;, score=-0.645 total time=   0.1s\n",
            "[CV 3/5] END ....C=0.1, gamma=1, kernel=linear;, score=-0.654 total time=   0.1s\n",
            "[CV 4/5] END ....C=0.1, gamma=1, kernel=linear;, score=-0.612 total time=   0.1s\n",
            "[CV 5/5] END ....C=0.1, gamma=1, kernel=linear;, score=-0.593 total time=   0.1s\n",
            "[CV 1/5] END .......C=0.1, gamma=1, kernel=rbf;, score=-0.949 total time=   0.1s\n",
            "[CV 2/5] END .......C=0.1, gamma=1, kernel=rbf;, score=-0.860 total time=   0.1s\n",
            "[CV 3/5] END .......C=0.1, gamma=1, kernel=rbf;, score=-0.902 total time=   0.1s\n",
            "[CV 4/5] END .......C=0.1, gamma=1, kernel=rbf;, score=-0.935 total time=   0.1s\n",
            "[CV 5/5] END .......C=0.1, gamma=1, kernel=rbf;, score=-0.925 total time=   0.1s\n",
            "[CV 1/5] END ..C=0.1, gamma=0.1, kernel=linear;, score=-0.614 total time=   0.1s\n",
            "[CV 2/5] END ..C=0.1, gamma=0.1, kernel=linear;, score=-0.645 total time=   0.1s\n",
            "[CV 3/5] END ..C=0.1, gamma=0.1, kernel=linear;, score=-0.654 total time=   0.1s\n",
            "[CV 4/5] END ..C=0.1, gamma=0.1, kernel=linear;, score=-0.612 total time=   0.1s\n",
            "[CV 5/5] END ..C=0.1, gamma=0.1, kernel=linear;, score=-0.593 total time=   0.1s\n",
            "[CV 1/5] END .....C=0.1, gamma=0.1, kernel=rbf;, score=-0.740 total time=   0.1s\n",
            "[CV 2/5] END .....C=0.1, gamma=0.1, kernel=rbf;, score=-0.696 total time=   0.1s\n",
            "[CV 3/5] END .....C=0.1, gamma=0.1, kernel=rbf;, score=-0.729 total time=   0.1s\n",
            "[CV 4/5] END .....C=0.1, gamma=0.1, kernel=rbf;, score=-0.650 total time=   0.1s\n",
            "[CV 5/5] END .....C=0.1, gamma=0.1, kernel=rbf;, score=-0.664 total time=   0.1s\n",
            "[CV 1/5] END .C=0.1, gamma=0.01, kernel=linear;, score=-0.614 total time=   0.1s\n",
            "[CV 2/5] END .C=0.1, gamma=0.01, kernel=linear;, score=-0.645 total time=   0.1s\n",
            "[CV 3/5] END .C=0.1, gamma=0.01, kernel=linear;, score=-0.654 total time=   0.1s\n",
            "[CV 4/5] END .C=0.1, gamma=0.01, kernel=linear;, score=-0.612 total time=   0.1s\n",
            "[CV 5/5] END .C=0.1, gamma=0.01, kernel=linear;, score=-0.593 total time=   0.1s\n",
            "[CV 1/5] END ....C=0.1, gamma=0.01, kernel=rbf;, score=-0.753 total time=   0.1s\n",
            "[CV 2/5] END ....C=0.1, gamma=0.01, kernel=rbf;, score=-0.682 total time=   0.1s\n",
            "[CV 3/5] END ....C=0.1, gamma=0.01, kernel=rbf;, score=-0.738 total time=   0.1s\n",
            "[CV 4/5] END ....C=0.1, gamma=0.01, kernel=rbf;, score=-0.640 total time=   0.1s\n",
            "[CV 5/5] END ....C=0.1, gamma=0.01, kernel=rbf;, score=-0.701 total time=   0.1s\n",
            "[CV 1/5] END C=0.1, gamma=0.001, kernel=linear;, score=-0.614 total time=   0.0s\n",
            "[CV 2/5] END C=0.1, gamma=0.001, kernel=linear;, score=-0.645 total time=   0.1s\n",
            "[CV 3/5] END C=0.1, gamma=0.001, kernel=linear;, score=-0.654 total time=   0.0s\n",
            "[CV 4/5] END C=0.1, gamma=0.001, kernel=linear;, score=-0.612 total time=   0.1s\n",
            "[CV 5/5] END C=0.1, gamma=0.001, kernel=linear;, score=-0.593 total time=   0.1s\n",
            "[CV 1/5] END ...C=0.1, gamma=0.001, kernel=rbf;, score=-1.074 total time=   0.1s\n",
            "[CV 2/5] END ...C=0.1, gamma=0.001, kernel=rbf;, score=-1.037 total time=   0.1s\n",
            "[CV 3/5] END ...C=0.1, gamma=0.001, kernel=rbf;, score=-1.037 total time=   0.1s\n",
            "[CV 4/5] END ...C=0.1, gamma=0.001, kernel=rbf;, score=-1.023 total time=   0.1s\n",
            "[CV 5/5] END ...C=0.1, gamma=0.001, kernel=rbf;, score=-1.023 total time=   0.1s\n",
            "[CV 1/5] END ......C=1, gamma=1, kernel=linear;, score=-0.540 total time=   0.1s\n",
            "[CV 2/5] END ......C=1, gamma=1, kernel=linear;, score=-0.565 total time=   0.1s\n",
            "[CV 3/5] END ......C=1, gamma=1, kernel=linear;, score=-0.542 total time=   0.1s\n",
            "[CV 4/5] END ......C=1, gamma=1, kernel=linear;, score=-0.505 total time=   0.1s\n",
            "[CV 5/5] END ......C=1, gamma=1, kernel=linear;, score=-0.509 total time=   0.1s\n",
            "[CV 1/5] END .........C=1, gamma=1, kernel=rbf;, score=-0.693 total time=   0.1s\n",
            "[CV 2/5] END .........C=1, gamma=1, kernel=rbf;, score=-0.696 total time=   0.1s\n",
            "[CV 3/5] END .........C=1, gamma=1, kernel=rbf;, score=-0.678 total time=   0.1s\n",
            "[CV 4/5] END .........C=1, gamma=1, kernel=rbf;, score=-0.612 total time=   0.1s\n",
            "[CV 5/5] END .........C=1, gamma=1, kernel=rbf;, score=-0.612 total time=   0.1s\n",
            "[CV 1/5] END ....C=1, gamma=0.1, kernel=linear;, score=-0.540 total time=   0.1s\n",
            "[CV 2/5] END ....C=1, gamma=0.1, kernel=linear;, score=-0.565 total time=   0.1s\n",
            "[CV 3/5] END ....C=1, gamma=0.1, kernel=linear;, score=-0.542 total time=   0.1s\n",
            "[CV 4/5] END ....C=1, gamma=0.1, kernel=linear;, score=-0.505 total time=   0.2s\n",
            "[CV 5/5] END ....C=1, gamma=0.1, kernel=linear;, score=-0.509 total time=   0.2s\n",
            "[CV 1/5] END .......C=1, gamma=0.1, kernel=rbf;, score=-0.698 total time=   0.1s\n",
            "[CV 2/5] END .......C=1, gamma=0.1, kernel=rbf;, score=-0.621 total time=   0.1s\n",
            "[CV 3/5] END .......C=1, gamma=0.1, kernel=rbf;, score=-0.570 total time=   0.2s\n",
            "[CV 4/5] END .......C=1, gamma=0.1, kernel=rbf;, score=-0.654 total time=   0.2s\n",
            "[CV 5/5] END .......C=1, gamma=0.1, kernel=rbf;, score=-0.603 total time=   0.1s\n",
            "[CV 1/5] END ...C=1, gamma=0.01, kernel=linear;, score=-0.540 total time=   0.1s\n",
            "[CV 2/5] END ...C=1, gamma=0.01, kernel=linear;, score=-0.565 total time=   0.2s\n",
            "[CV 3/5] END ...C=1, gamma=0.01, kernel=linear;, score=-0.542 total time=   0.2s\n",
            "[CV 4/5] END ...C=1, gamma=0.01, kernel=linear;, score=-0.505 total time=   0.2s\n",
            "[CV 5/5] END ...C=1, gamma=0.01, kernel=linear;, score=-0.509 total time=   0.2s\n",
            "[CV 1/5] END ......C=1, gamma=0.01, kernel=rbf;, score=-0.740 total time=   0.2s\n",
            "[CV 2/5] END ......C=1, gamma=0.01, kernel=rbf;, score=-0.673 total time=   0.1s\n",
            "[CV 3/5] END ......C=1, gamma=0.01, kernel=rbf;, score=-0.701 total time=   0.2s\n",
            "[CV 4/5] END ......C=1, gamma=0.01, kernel=rbf;, score=-0.636 total time=   0.2s\n",
            "[CV 5/5] END ......C=1, gamma=0.01, kernel=rbf;, score=-0.668 total time=   0.2s\n",
            "[CV 1/5] END ..C=1, gamma=0.001, kernel=linear;, score=-0.540 total time=   0.2s\n",
            "[CV 2/5] END ..C=1, gamma=0.001, kernel=linear;, score=-0.565 total time=   0.2s\n",
            "[CV 3/5] END ..C=1, gamma=0.001, kernel=linear;, score=-0.542 total time=   0.1s\n",
            "[CV 4/5] END ..C=1, gamma=0.001, kernel=linear;, score=-0.505 total time=   0.2s\n",
            "[CV 5/5] END ..C=1, gamma=0.001, kernel=linear;, score=-0.509 total time=   0.2s\n",
            "[CV 1/5] END .....C=1, gamma=0.001, kernel=rbf;, score=-0.735 total time=   0.1s\n",
            "[CV 2/5] END .....C=1, gamma=0.001, kernel=rbf;, score=-0.682 total time=   0.2s\n",
            "[CV 3/5] END .....C=1, gamma=0.001, kernel=rbf;, score=-0.724 total time=   0.2s\n",
            "[CV 4/5] END .....C=1, gamma=0.001, kernel=rbf;, score=-0.650 total time=   0.2s\n",
            "[CV 5/5] END .....C=1, gamma=0.001, kernel=rbf;, score=-0.692 total time=   0.2s\n",
            "[CV 1/5] END .....C=10, gamma=1, kernel=linear;, score=-0.549 total time=   4.4s\n",
            "[CV 2/5] END .....C=10, gamma=1, kernel=linear;, score=-0.570 total time=   4.3s\n",
            "[CV 3/5] END .....C=10, gamma=1, kernel=linear;, score=-0.514 total time=   2.2s\n",
            "[CV 4/5] END .....C=10, gamma=1, kernel=linear;, score=-0.528 total time=   3.2s\n",
            "[CV 5/5] END .....C=10, gamma=1, kernel=linear;, score=-0.514 total time=   2.6s\n",
            "[CV 1/5] END ........C=10, gamma=1, kernel=rbf;, score=-0.786 total time=   0.3s\n",
            "[CV 2/5] END ........C=10, gamma=1, kernel=rbf;, score=-0.818 total time=   0.2s\n",
            "[CV 3/5] END ........C=10, gamma=1, kernel=rbf;, score=-0.654 total time=   0.2s\n",
            "[CV 4/5] END ........C=10, gamma=1, kernel=rbf;, score=-0.631 total time=   0.3s\n",
            "[CV 5/5] END ........C=10, gamma=1, kernel=rbf;, score=-0.612 total time=   0.3s\n",
            "[CV 1/5] END ...C=10, gamma=0.1, kernel=linear;, score=-0.549 total time=   3.3s\n",
            "[CV 2/5] END ...C=10, gamma=0.1, kernel=linear;, score=-0.570 total time=   0.9s\n",
            "[CV 3/5] END ...C=10, gamma=0.1, kernel=linear;, score=-0.514 total time=   0.8s\n",
            "[CV 4/5] END ...C=10, gamma=0.1, kernel=linear;, score=-0.528 total time=   1.4s\n",
            "[CV 5/5] END ...C=10, gamma=0.1, kernel=linear;, score=-0.514 total time=   1.0s\n",
            "[CV 1/5] END ......C=10, gamma=0.1, kernel=rbf;, score=-0.600 total time=   0.1s\n",
            "[CV 2/5] END ......C=10, gamma=0.1, kernel=rbf;, score=-0.607 total time=   0.1s\n",
            "[CV 3/5] END ......C=10, gamma=0.1, kernel=rbf;, score=-0.523 total time=   0.1s\n",
            "[CV 4/5] END ......C=10, gamma=0.1, kernel=rbf;, score=-0.537 total time=   0.1s\n",
            "[CV 5/5] END ......C=10, gamma=0.1, kernel=rbf;, score=-0.537 total time=   0.1s\n",
            "[CV 1/5] END ..C=10, gamma=0.01, kernel=linear;, score=-0.549 total time=   1.3s\n",
            "[CV 2/5] END ..C=10, gamma=0.01, kernel=linear;, score=-0.570 total time=   0.9s\n",
            "[CV 3/5] END ..C=10, gamma=0.01, kernel=linear;, score=-0.514 total time=   0.8s\n",
            "[CV 4/5] END ..C=10, gamma=0.01, kernel=linear;, score=-0.528 total time=   1.3s\n",
            "[CV 5/5] END ..C=10, gamma=0.01, kernel=linear;, score=-0.514 total time=   1.0s\n",
            "[CV 1/5] END .....C=10, gamma=0.01, kernel=rbf;, score=-0.581 total time=   0.1s\n",
            "[CV 2/5] END .....C=10, gamma=0.01, kernel=rbf;, score=-0.607 total time=   0.1s\n",
            "[CV 3/5] END .....C=10, gamma=0.01, kernel=rbf;, score=-0.542 total time=   0.1s\n",
            "[CV 4/5] END .....C=10, gamma=0.01, kernel=rbf;, score=-0.575 total time=   0.1s\n",
            "[CV 5/5] END .....C=10, gamma=0.01, kernel=rbf;, score=-0.542 total time=   0.1s\n",
            "[CV 1/5] END .C=10, gamma=0.001, kernel=linear;, score=-0.549 total time=   1.3s\n",
            "[CV 2/5] END .C=10, gamma=0.001, kernel=linear;, score=-0.570 total time=   0.9s\n",
            "[CV 3/5] END .C=10, gamma=0.001, kernel=linear;, score=-0.514 total time=   0.9s\n",
            "[CV 4/5] END .C=10, gamma=0.001, kernel=linear;, score=-0.528 total time=   1.3s\n",
            "[CV 5/5] END .C=10, gamma=0.001, kernel=linear;, score=-0.514 total time=   1.0s\n",
            "[CV 1/5] END ....C=10, gamma=0.001, kernel=rbf;, score=-0.712 total time=   0.1s\n",
            "[CV 2/5] END ....C=10, gamma=0.001, kernel=rbf;, score=-0.678 total time=   0.1s\n",
            "[CV 3/5] END ....C=10, gamma=0.001, kernel=rbf;, score=-0.715 total time=   0.1s\n",
            "[CV 4/5] END ....C=10, gamma=0.001, kernel=rbf;, score=-0.659 total time=   0.1s\n",
            "[CV 5/5] END ....C=10, gamma=0.001, kernel=rbf;, score=-0.664 total time=   0.1s\n",
            "[CV 1/5] END ....C=100, gamma=1, kernel=linear;, score=-0.544 total time=   8.7s\n",
            "[CV 2/5] END ....C=100, gamma=1, kernel=linear;, score=-0.575 total time=   5.2s\n",
            "[CV 3/5] END ....C=100, gamma=1, kernel=linear;, score=-0.514 total time=   9.0s\n",
            "[CV 4/5] END ....C=100, gamma=1, kernel=linear;, score=-0.519 total time=   6.6s\n",
            "[CV 5/5] END ....C=100, gamma=1, kernel=linear;, score=-0.519 total time=   8.1s\n",
            "[CV 1/5] END .......C=100, gamma=1, kernel=rbf;, score=-0.791 total time=   0.1s\n",
            "[CV 2/5] END .......C=100, gamma=1, kernel=rbf;, score=-0.832 total time=   0.1s\n",
            "[CV 3/5] END .......C=100, gamma=1, kernel=rbf;, score=-0.715 total time=   0.1s\n",
            "[CV 4/5] END .......C=100, gamma=1, kernel=rbf;, score=-0.650 total time=   0.1s\n",
            "[CV 5/5] END .......C=100, gamma=1, kernel=rbf;, score=-0.631 total time=   0.1s\n",
            "[CV 1/5] END ..C=100, gamma=0.1, kernel=linear;, score=-0.544 total time=   9.0s\n",
            "[CV 2/5] END ..C=100, gamma=0.1, kernel=linear;, score=-0.575 total time=   5.5s\n",
            "[CV 3/5] END ..C=100, gamma=0.1, kernel=linear;, score=-0.514 total time=  18.4s\n",
            "[CV 4/5] END ..C=100, gamma=0.1, kernel=linear;, score=-0.519 total time=   7.6s\n",
            "[CV 5/5] END ..C=100, gamma=0.1, kernel=linear;, score=-0.519 total time=   8.0s\n",
            "[CV 1/5] END .....C=100, gamma=0.1, kernel=rbf;, score=-0.665 total time=   0.2s\n",
            "[CV 2/5] END .....C=100, gamma=0.1, kernel=rbf;, score=-0.664 total time=   0.1s\n",
            "[CV 3/5] END .....C=100, gamma=0.1, kernel=rbf;, score=-0.603 total time=   0.1s\n",
            "[CV 4/5] END .....C=100, gamma=0.1, kernel=rbf;, score=-0.556 total time=   0.1s\n",
            "[CV 5/5] END .....C=100, gamma=0.1, kernel=rbf;, score=-0.481 total time=   0.1s\n",
            "[CV 1/5] END .C=100, gamma=0.01, kernel=linear;, score=-0.544 total time=  10.7s\n",
            "[CV 2/5] END .C=100, gamma=0.01, kernel=linear;, score=-0.575 total time=   5.3s\n",
            "[CV 3/5] END .C=100, gamma=0.01, kernel=linear;, score=-0.514 total time=   9.2s\n",
            "[CV 4/5] END .C=100, gamma=0.01, kernel=linear;, score=-0.519 total time=   6.4s\n",
            "[CV 5/5] END .C=100, gamma=0.01, kernel=linear;, score=-0.519 total time=   8.0s\n",
            "[CV 1/5] END ....C=100, gamma=0.01, kernel=rbf;, score=-0.526 total time=   0.1s\n",
            "[CV 2/5] END ....C=100, gamma=0.01, kernel=rbf;, score=-0.593 total time=   0.1s\n",
            "[CV 3/5] END ....C=100, gamma=0.01, kernel=rbf;, score=-0.472 total time=   0.1s\n",
            "[CV 4/5] END ....C=100, gamma=0.01, kernel=rbf;, score=-0.542 total time=   0.1s\n",
            "[CV 5/5] END ....C=100, gamma=0.01, kernel=rbf;, score=-0.519 total time=   0.1s\n",
            "[CV 1/5] END C=100, gamma=0.001, kernel=linear;, score=-0.544 total time=   8.8s\n",
            "[CV 2/5] END C=100, gamma=0.001, kernel=linear;, score=-0.575 total time=   5.2s\n",
            "[CV 3/5] END C=100, gamma=0.001, kernel=linear;, score=-0.514 total time=  10.6s\n",
            "[CV 4/5] END C=100, gamma=0.001, kernel=linear;, score=-0.519 total time=   6.3s\n",
            "[CV 5/5] END C=100, gamma=0.001, kernel=linear;, score=-0.519 total time=   7.9s\n",
            "[CV 1/5] END ...C=100, gamma=0.001, kernel=rbf;, score=-0.577 total time=   0.1s\n",
            "[CV 2/5] END ...C=100, gamma=0.001, kernel=rbf;, score=-0.570 total time=   0.1s\n",
            "[CV 3/5] END ...C=100, gamma=0.001, kernel=rbf;, score=-0.565 total time=   0.1s\n",
            "[CV 4/5] END ...C=100, gamma=0.001, kernel=rbf;, score=-0.598 total time=   0.1s\n",
            "[CV 5/5] END ...C=100, gamma=0.001, kernel=rbf;, score=-0.537 total time=   0.1s\n"
          ]
        },
        {
          "output_type": "execute_result",
          "data": {
            "text/plain": [
              "GridSearchCV(cv=5, estimator=SVC(),\n",
              "             param_grid={'C': [0.1, 1, 10, 100], 'gamma': [1, 0.1, 0.01, 0.001],\n",
              "                         'kernel': ['linear', 'rbf']},\n",
              "             scoring='neg_mean_squared_error', verbose=3)"
            ]
          },
          "metadata": {},
          "execution_count": 39
        }
      ],
      "source": [
        "model.fit(x_train,y_train)"
      ]
    },
    {
      "cell_type": "code",
      "execution_count": 40,
      "id": "2b98b8ce",
      "metadata": {
        "colab": {
          "base_uri": "https://localhost:8080/"
        },
        "id": "2b98b8ce",
        "outputId": "cd8a60c3-6369-4c07-c6e1-32d296e38b3c"
      },
      "outputs": [
        {
          "output_type": "stream",
          "name": "stdout",
          "text": [
            "{'C': 100, 'gamma': 0.01, 'kernel': 'rbf'}\n",
            "-0.5303499239295805\n"
          ]
        }
      ],
      "source": [
        "print(model.best_params_)\n",
        "print(model.best_score_)"
      ]
    },
    {
      "cell_type": "code",
      "execution_count": 41,
      "id": "717b9f75",
      "metadata": {
        "colab": {
          "base_uri": "https://localhost:8080/"
        },
        "id": "717b9f75",
        "outputId": "d4a234a6-824e-4d01-fa26-039a6e81e4ef"
      },
      "outputs": [
        {
          "output_type": "execute_result",
          "data": {
            "text/plain": [
              "array([5, 6, 5, ..., 5, 6, 6])"
            ]
          },
          "metadata": {},
          "execution_count": 41
        }
      ],
      "source": [
        "model.predict(x_train)"
      ]
    },
    {
      "cell_type": "code",
      "execution_count": 42,
      "id": "54997e91",
      "metadata": {
        "id": "54997e91"
      },
      "outputs": [],
      "source": [
        "from sklearn.metrics import classification_report, confusion_matrix"
      ]
    },
    {
      "cell_type": "code",
      "execution_count": 43,
      "id": "9a180672",
      "metadata": {
        "colab": {
          "base_uri": "https://localhost:8080/"
        },
        "id": "9a180672",
        "outputId": "37946b37-5ae9-45cb-c34c-0acdb375793d"
      },
      "outputs": [
        {
          "output_type": "stream",
          "name": "stdout",
          "text": [
            "--------------------------------------\n",
            "Confusion Matrix\n",
            "[[  0   0   5   0   0   0]\n",
            " [  0   0   7   6   0   0]\n",
            " [  0   0 193  43   0   0]\n",
            " [  0   0  65 129   2   0]\n",
            " [  0   0   4  63   4   0]\n",
            " [  0   0   0   7   0   0]]\n",
            "--------------------------------------\n",
            "Classification report\n",
            "              precision    recall  f1-score   support\n",
            "\n",
            "           3       0.00      0.00      0.00         5\n",
            "           4       0.00      0.00      0.00        13\n",
            "           5       0.70      0.82      0.76       236\n",
            "           6       0.52      0.66      0.58       196\n",
            "           7       0.67      0.06      0.10        71\n",
            "           8       0.00      0.00      0.00         7\n",
            "\n",
            "    accuracy                           0.62       528\n",
            "   macro avg       0.32      0.26      0.24       528\n",
            "weighted avg       0.60      0.62      0.57       528\n",
            "\n",
            "--------------------------------------\n"
          ]
        }
      ],
      "source": [
        "grid_model_predictions = model.predict(x_test)\n",
        "print(\"--------------------------------------\")\n",
        "print(\"Confusion Matrix\")\n",
        "print(confusion_matrix(y_test,grid_model_predictions))\n",
        "print(\"--------------------------------------\")\n",
        "print(\"Classification report\")\n",
        "print(classification_report(y_test,grid_model_predictions))\n",
        "print(\"--------------------------------------\")"
      ]
    },
    {
      "cell_type": "code",
      "execution_count": 44,
      "id": "6730ecb6",
      "metadata": {
        "colab": {
          "base_uri": "https://localhost:8080/"
        },
        "id": "6730ecb6",
        "outputId": "f4969d64-dd63-4f77-866a-f982b5f56bf4"
      },
      "outputs": [
        {
          "output_type": "execute_result",
          "data": {
            "text/plain": [
              "(1599, 11)"
            ]
          },
          "metadata": {},
          "execution_count": 44
        }
      ],
      "source": [
        "x.shape"
      ]
    },
    {
      "cell_type": "code",
      "execution_count": 45,
      "id": "b51a81c8",
      "metadata": {
        "id": "b51a81c8"
      },
      "outputs": [],
      "source": [
        "from imblearn.combine import SMOTETomek\n",
        "from imblearn.under_sampling import TomekLinks"
      ]
    },
    {
      "cell_type": "code",
      "execution_count": 46,
      "id": "988d0b3e",
      "metadata": {
        "id": "988d0b3e"
      },
      "outputs": [],
      "source": [
        "resample = SMOTETomek(tomek=TomekLinks(sampling_strategy='majority'))\n",
        "sampled_x, sampled_y = resample.fit_resample(x, y)"
      ]
    },
    {
      "cell_type": "code",
      "execution_count": 47,
      "id": "82060355",
      "metadata": {
        "colab": {
          "base_uri": "https://localhost:8080/"
        },
        "id": "82060355",
        "outputId": "efb281bc-1bb9-4271-d229-c68d79d98ef3"
      },
      "outputs": [
        {
          "output_type": "stream",
          "name": "stdout",
          "text": [
            "(4086, 11)\n",
            "(4086,)\n"
          ]
        }
      ],
      "source": [
        "print(sampled_x.shape)\n",
        "print(sampled_y.shape)"
      ]
    },
    {
      "cell_type": "code",
      "execution_count": 48,
      "id": "a27be15e",
      "metadata": {
        "id": "a27be15e"
      },
      "outputs": [],
      "source": [
        "x_train_rs, x_test_rs, y_train_rs, y_test_rs = train_test_split(sampled_x, sampled_y, test_size = 0.33, random_state=5)"
      ]
    },
    {
      "cell_type": "code",
      "execution_count": 49,
      "id": "6020367e",
      "metadata": {
        "colab": {
          "base_uri": "https://localhost:8080/"
        },
        "id": "6020367e",
        "outputId": "1763863e-41da-49d7-f93a-f6ec1a6c48db"
      },
      "outputs": [
        {
          "output_type": "execute_result",
          "data": {
            "text/plain": [
              "array([[ 0.60225026, -0.77480967,  1.09350504, ..., -0.82301576,\n",
              "         0.19456891,  1.39631798],\n",
              "       [ 0.82198261, -0.92036402,  0.79687683, ..., -0.50352499,\n",
              "         1.02715459,  0.04038952],\n",
              "       [-1.93948182, -0.65090958,  0.17512218, ...,  2.54888267,\n",
              "         0.54307665,  2.58217667],\n",
              "       ...,\n",
              "       [ 0.82004639, -0.81730971,  0.49631366, ..., -0.89524815,\n",
              "         0.25722402, -0.5906187 ],\n",
              "       [-0.04952927,  1.00018323, -1.45698864, ...,  1.46791081,\n",
              "         0.21239711, -0.85819664],\n",
              "       [ 0.02263196, -1.31610332,  0.75995168, ..., -0.23037634,\n",
              "         0.32717226,  1.61835466]])"
            ]
          },
          "metadata": {},
          "execution_count": 49
        }
      ],
      "source": [
        "scaler.fit_transform(x_train_rs)\n",
        "scaler.transform(x_test_rs)"
      ]
    },
    {
      "cell_type": "code",
      "execution_count": null,
      "id": "7d4a1fbe",
      "metadata": {
        "colab": {
          "base_uri": "https://localhost:8080/"
        },
        "id": "7d4a1fbe",
        "outputId": "a94b21d8-03b6-4abd-8d75-2b041c137bb0"
      },
      "outputs": [
        {
          "output_type": "stream",
          "name": "stdout",
          "text": [
            "Fitting 5 folds for each of 32 candidates, totalling 160 fits\n",
            "[CV 1/5] END ....C=0.1, gamma=1, kernel=linear;, score=-1.693 total time=   0.3s\n",
            "[CV 2/5] END ....C=0.1, gamma=1, kernel=linear;, score=-1.387 total time=   0.2s\n",
            "[CV 3/5] END ....C=0.1, gamma=1, kernel=linear;, score=-1.285 total time=   0.3s\n",
            "[CV 4/5] END ....C=0.1, gamma=1, kernel=linear;, score=-1.534 total time=   0.2s\n",
            "[CV 5/5] END ....C=0.1, gamma=1, kernel=linear;, score=-1.393 total time=   0.3s\n",
            "[CV 1/5] END .......C=0.1, gamma=1, kernel=rbf;, score=-1.332 total time=   0.5s\n",
            "[CV 2/5] END .......C=0.1, gamma=1, kernel=rbf;, score=-1.235 total time=   0.5s\n",
            "[CV 3/5] END .......C=0.1, gamma=1, kernel=rbf;, score=-1.139 total time=   0.5s\n",
            "[CV 4/5] END .......C=0.1, gamma=1, kernel=rbf;, score=-1.506 total time=   0.5s\n",
            "[CV 5/5] END .......C=0.1, gamma=1, kernel=rbf;, score=-1.512 total time=   0.5s\n",
            "[CV 1/5] END ..C=0.1, gamma=0.1, kernel=linear;, score=-1.693 total time=   0.2s\n",
            "[CV 2/5] END ..C=0.1, gamma=0.1, kernel=linear;, score=-1.387 total time=   0.3s\n",
            "[CV 3/5] END ..C=0.1, gamma=0.1, kernel=linear;, score=-1.285 total time=   0.2s\n",
            "[CV 4/5] END ..C=0.1, gamma=0.1, kernel=linear;, score=-1.534 total time=   0.2s\n",
            "[CV 5/5] END ..C=0.1, gamma=0.1, kernel=linear;, score=-1.393 total time=   0.3s\n",
            "[CV 1/5] END .....C=0.1, gamma=0.1, kernel=rbf;, score=-2.363 total time=   0.5s\n",
            "[CV 2/5] END .....C=0.1, gamma=0.1, kernel=rbf;, score=-2.266 total time=   0.5s\n",
            "[CV 3/5] END .....C=0.1, gamma=0.1, kernel=rbf;, score=-2.293 total time=   0.5s\n",
            "[CV 4/5] END .....C=0.1, gamma=0.1, kernel=rbf;, score=-2.638 total time=   0.5s\n",
            "[CV 5/5] END .....C=0.1, gamma=0.1, kernel=rbf;, score=-2.455 total time=   0.5s\n",
            "[CV 1/5] END .C=0.1, gamma=0.01, kernel=linear;, score=-1.693 total time=   0.2s\n",
            "[CV 2/5] END .C=0.1, gamma=0.01, kernel=linear;, score=-1.387 total time=   0.3s\n",
            "[CV 3/5] END .C=0.1, gamma=0.01, kernel=linear;, score=-1.285 total time=   0.2s\n",
            "[CV 4/5] END .C=0.1, gamma=0.01, kernel=linear;, score=-1.534 total time=   0.2s\n",
            "[CV 5/5] END .C=0.1, gamma=0.01, kernel=linear;, score=-1.393 total time=   0.2s\n",
            "[CV 1/5] END ....C=0.1, gamma=0.01, kernel=rbf;, score=-4.252 total time=   0.6s\n",
            "[CV 2/5] END ....C=0.1, gamma=0.01, kernel=rbf;, score=-4.208 total time=   0.5s\n",
            "[CV 3/5] END ....C=0.1, gamma=0.01, kernel=rbf;, score=-3.894 total time=   0.6s\n",
            "[CV 4/5] END ....C=0.1, gamma=0.01, kernel=rbf;, score=-3.832 total time=   0.5s\n",
            "[CV 5/5] END ....C=0.1, gamma=0.01, kernel=rbf;, score=-3.927 total time=   0.5s\n",
            "[CV 1/5] END C=0.1, gamma=0.001, kernel=linear;, score=-1.693 total time=   0.2s\n",
            "[CV 2/5] END C=0.1, gamma=0.001, kernel=linear;, score=-1.387 total time=   0.2s\n",
            "[CV 3/5] END C=0.1, gamma=0.001, kernel=linear;, score=-1.285 total time=   0.3s\n",
            "[CV 4/5] END C=0.1, gamma=0.001, kernel=linear;, score=-1.534 total time=   0.3s\n",
            "[CV 5/5] END C=0.1, gamma=0.001, kernel=linear;, score=-1.393 total time=   0.2s\n",
            "[CV 1/5] END ...C=0.1, gamma=0.001, kernel=rbf;, score=-3.148 total time=   0.6s\n",
            "[CV 2/5] END ...C=0.1, gamma=0.001, kernel=rbf;, score=-3.153 total time=   0.6s\n",
            "[CV 3/5] END ...C=0.1, gamma=0.001, kernel=rbf;, score=-3.137 total time=   0.6s\n",
            "[CV 4/5] END ...C=0.1, gamma=0.001, kernel=rbf;, score=-3.143 total time=   0.6s\n",
            "[CV 5/5] END ...C=0.1, gamma=0.001, kernel=rbf;, score=-3.144 total time=   0.6s\n",
            "[CV 1/5] END ......C=1, gamma=1, kernel=linear;, score=-0.989 total time=   0.3s\n",
            "[CV 2/5] END ......C=1, gamma=1, kernel=linear;, score=-0.945 total time=   0.3s\n",
            "[CV 3/5] END ......C=1, gamma=1, kernel=linear;, score=-0.898 total time=   0.3s\n",
            "[CV 4/5] END ......C=1, gamma=1, kernel=linear;, score=-0.976 total time=   0.3s\n",
            "[CV 5/5] END ......C=1, gamma=1, kernel=linear;, score=-0.901 total time=   0.3s\n",
            "[CV 1/5] END .........C=1, gamma=1, kernel=rbf;, score=-0.493 total time=   0.4s\n",
            "[CV 2/5] END .........C=1, gamma=1, kernel=rbf;, score=-0.524 total time=   0.4s\n",
            "[CV 3/5] END .........C=1, gamma=1, kernel=rbf;, score=-0.508 total time=   0.4s\n",
            "[CV 4/5] END .........C=1, gamma=1, kernel=rbf;, score=-0.638 total time=   0.4s\n",
            "[CV 5/5] END .........C=1, gamma=1, kernel=rbf;, score=-0.572 total time=   0.4s\n",
            "[CV 1/5] END ....C=1, gamma=0.1, kernel=linear;, score=-0.989 total time=   0.3s\n",
            "[CV 2/5] END ....C=1, gamma=0.1, kernel=linear;, score=-0.945 total time=   0.3s\n",
            "[CV 3/5] END ....C=1, gamma=0.1, kernel=linear;, score=-0.898 total time=   0.3s\n",
            "[CV 4/5] END ....C=1, gamma=0.1, kernel=linear;, score=-0.976 total time=   0.3s\n",
            "[CV 5/5] END ....C=1, gamma=0.1, kernel=linear;, score=-0.901 total time=   0.3s\n",
            "[CV 1/5] END .......C=1, gamma=0.1, kernel=rbf;, score=-0.954 total time=   0.4s\n",
            "[CV 2/5] END .......C=1, gamma=0.1, kernel=rbf;, score=-0.987 total time=   0.4s\n",
            "[CV 3/5] END .......C=1, gamma=0.1, kernel=rbf;, score=-0.859 total time=   0.4s\n",
            "[CV 4/5] END .......C=1, gamma=0.1, kernel=rbf;, score=-1.044 total time=   0.4s\n",
            "[CV 5/5] END .......C=1, gamma=0.1, kernel=rbf;, score=-0.938 total time=   0.4s\n",
            "[CV 1/5] END ...C=1, gamma=0.01, kernel=linear;, score=-0.989 total time=   0.3s\n",
            "[CV 2/5] END ...C=1, gamma=0.01, kernel=linear;, score=-0.945 total time=   0.3s\n",
            "[CV 3/5] END ...C=1, gamma=0.01, kernel=linear;, score=-0.898 total time=   0.3s\n",
            "[CV 4/5] END ...C=1, gamma=0.01, kernel=linear;, score=-0.976 total time=   0.3s\n",
            "[CV 5/5] END ...C=1, gamma=0.01, kernel=linear;, score=-0.901 total time=   0.3s\n",
            "[CV 1/5] END ......C=1, gamma=0.01, kernel=rbf;, score=-2.190 total time=   0.5s\n",
            "[CV 2/5] END ......C=1, gamma=0.01, kernel=rbf;, score=-1.925 total time=   0.5s\n",
            "[CV 3/5] END ......C=1, gamma=0.01, kernel=rbf;, score=-1.954 total time=   0.5s\n",
            "[CV 4/5] END ......C=1, gamma=0.01, kernel=rbf;, score=-2.110 total time=   0.5s\n",
            "[CV 5/5] END ......C=1, gamma=0.01, kernel=rbf;, score=-2.219 total time=   0.5s\n",
            "[CV 1/5] END ..C=1, gamma=0.001, kernel=linear;, score=-0.989 total time=   0.3s\n",
            "[CV 2/5] END ..C=1, gamma=0.001, kernel=linear;, score=-0.945 total time=   0.3s\n",
            "[CV 3/5] END ..C=1, gamma=0.001, kernel=linear;, score=-0.898 total time=   0.3s\n",
            "[CV 4/5] END ..C=1, gamma=0.001, kernel=linear;, score=-0.976 total time=   0.3s\n",
            "[CV 5/5] END ..C=1, gamma=0.001, kernel=linear;, score=-0.901 total time=   0.3s\n",
            "[CV 1/5] END .....C=1, gamma=0.001, kernel=rbf;, score=-4.595 total time=   0.5s\n",
            "[CV 2/5] END .....C=1, gamma=0.001, kernel=rbf;, score=-4.453 total time=   0.5s\n",
            "[CV 3/5] END .....C=1, gamma=0.001, kernel=rbf;, score=-4.066 total time=   0.5s\n",
            "[CV 4/5] END .....C=1, gamma=0.001, kernel=rbf;, score=-4.183 total time=   0.5s\n",
            "[CV 5/5] END .....C=1, gamma=0.001, kernel=rbf;, score=-4.208 total time=   0.5s\n",
            "[CV 1/5] END .....C=10, gamma=1, kernel=linear;, score=-0.881 total time=   0.7s\n",
            "[CV 2/5] END .....C=10, gamma=1, kernel=linear;, score=-0.737 total time=   0.9s\n",
            "[CV 3/5] END .....C=10, gamma=1, kernel=linear;, score=-0.804 total time=   0.7s\n",
            "[CV 4/5] END .....C=10, gamma=1, kernel=linear;, score=-0.766 total time=   0.8s\n",
            "[CV 5/5] END .....C=10, gamma=1, kernel=linear;, score=-0.856 total time=   0.7s\n",
            "[CV 1/5] END ........C=10, gamma=1, kernel=rbf;, score=-0.277 total time=   0.4s\n",
            "[CV 2/5] END ........C=10, gamma=1, kernel=rbf;, score=-0.381 total time=   0.4s\n",
            "[CV 3/5] END ........C=10, gamma=1, kernel=rbf;, score=-0.360 total time=   0.4s\n",
            "[CV 4/5] END ........C=10, gamma=1, kernel=rbf;, score=-0.455 total time=   0.3s\n",
            "[CV 5/5] END ........C=10, gamma=1, kernel=rbf;, score=-0.353 total time=   0.4s\n",
            "[CV 1/5] END ...C=10, gamma=0.1, kernel=linear;, score=-0.881 total time=   0.7s\n",
            "[CV 2/5] END ...C=10, gamma=0.1, kernel=linear;, score=-0.737 total time=   0.9s\n",
            "[CV 3/5] END ...C=10, gamma=0.1, kernel=linear;, score=-0.804 total time=   0.8s\n",
            "[CV 4/5] END ...C=10, gamma=0.1, kernel=linear;, score=-0.766 total time=   0.8s\n",
            "[CV 5/5] END ...C=10, gamma=0.1, kernel=linear;, score=-0.856 total time=   0.7s\n",
            "[CV 1/5] END ......C=10, gamma=0.1, kernel=rbf;, score=-0.615 total time=   0.3s\n",
            "[CV 2/5] END ......C=10, gamma=0.1, kernel=rbf;, score=-0.560 total time=   0.3s\n",
            "[CV 3/5] END ......C=10, gamma=0.1, kernel=rbf;, score=-0.514 total time=   0.3s\n",
            "[CV 4/5] END ......C=10, gamma=0.1, kernel=rbf;, score=-0.614 total time=   0.3s\n",
            "[CV 5/5] END ......C=10, gamma=0.1, kernel=rbf;, score=-0.601 total time=   0.3s\n",
            "[CV 1/5] END ..C=10, gamma=0.01, kernel=linear;, score=-0.881 total time=   0.7s\n",
            "[CV 2/5] END ..C=10, gamma=0.01, kernel=linear;, score=-0.737 total time=   0.9s\n",
            "[CV 3/5] END ..C=10, gamma=0.01, kernel=linear;, score=-0.804 total time=   0.7s\n",
            "[CV 4/5] END ..C=10, gamma=0.01, kernel=linear;, score=-0.766 total time=   0.8s\n",
            "[CV 5/5] END ..C=10, gamma=0.01, kernel=linear;, score=-0.856 total time=   0.7s\n",
            "[CV 1/5] END .....C=10, gamma=0.01, kernel=rbf;, score=-1.089 total time=   0.4s\n",
            "[CV 2/5] END .....C=10, gamma=0.01, kernel=rbf;, score=-1.024 total time=   0.4s\n",
            "[CV 3/5] END .....C=10, gamma=0.01, kernel=rbf;, score=-1.005 total time=   0.4s\n",
            "[CV 4/5] END .....C=10, gamma=0.01, kernel=rbf;, score=-0.870 total time=   0.4s\n",
            "[CV 5/5] END .....C=10, gamma=0.01, kernel=rbf;, score=-0.978 total time=   0.4s\n",
            "[CV 1/5] END .C=10, gamma=0.001, kernel=linear;, score=-0.881 total time=   0.7s\n",
            "[CV 2/5] END .C=10, gamma=0.001, kernel=linear;, score=-0.737 total time=   0.9s\n",
            "[CV 3/5] END .C=10, gamma=0.001, kernel=linear;, score=-0.804 total time=   0.7s\n",
            "[CV 4/5] END .C=10, gamma=0.001, kernel=linear;, score=-0.766 total time=   0.8s\n",
            "[CV 5/5] END .C=10, gamma=0.001, kernel=linear;, score=-0.856 total time=   0.7s\n",
            "[CV 1/5] END ....C=10, gamma=0.001, kernel=rbf;, score=-2.130 total time=   0.5s\n",
            "[CV 2/5] END ....C=10, gamma=0.001, kernel=rbf;, score=-1.724 total time=   0.5s\n",
            "[CV 3/5] END ....C=10, gamma=0.001, kernel=rbf;, score=-1.782 total time=   0.5s\n",
            "[CV 4/5] END ....C=10, gamma=0.001, kernel=rbf;, score=-2.015 total time=   0.5s\n",
            "[CV 5/5] END ....C=10, gamma=0.001, kernel=rbf;, score=-2.102 total time=   0.5s\n",
            "[CV 1/5] END ....C=100, gamma=1, kernel=linear;, score=-0.776 total time=   3.8s\n",
            "[CV 2/5] END ....C=100, gamma=1, kernel=linear;, score=-0.752 total time=   4.6s\n",
            "[CV 3/5] END ....C=100, gamma=1, kernel=linear;, score=-0.728 total time=   4.2s\n",
            "[CV 4/5] END ....C=100, gamma=1, kernel=linear;, score=-0.707 total time=   4.2s\n",
            "[CV 5/5] END ....C=100, gamma=1, kernel=linear;, score=-0.814 total time=   4.8s\n",
            "[CV 1/5] END .......C=100, gamma=1, kernel=rbf;, score=-0.255 total time=   0.7s\n",
            "[CV 2/5] END .......C=100, gamma=1, kernel=rbf;, score=-0.396 total time=   0.7s\n",
            "[CV 3/5] END .......C=100, gamma=1, kernel=rbf;, score=-0.340 total time=   0.6s\n",
            "[CV 4/5] END .......C=100, gamma=1, kernel=rbf;, score=-0.473 total time=   0.6s\n",
            "[CV 5/5] END .......C=100, gamma=1, kernel=rbf;, score=-0.325 total time=   0.7s\n",
            "[CV 1/5] END ..C=100, gamma=0.1, kernel=linear;, score=-0.776 total time=   4.2s\n",
            "[CV 2/5] END ..C=100, gamma=0.1, kernel=linear;, score=-0.752 total time=   4.6s\n",
            "[CV 3/5] END ..C=100, gamma=0.1, kernel=linear;, score=-0.728 total time=   4.3s\n",
            "[CV 4/5] END ..C=100, gamma=0.1, kernel=linear;, score=-0.707 total time=   4.1s\n",
            "[CV 5/5] END ..C=100, gamma=0.1, kernel=linear;, score=-0.814 total time=   4.1s\n",
            "[CV 1/5] END .....C=100, gamma=0.1, kernel=rbf;, score=-0.330 total time=   0.4s\n",
            "[CV 2/5] END .....C=100, gamma=0.1, kernel=rbf;, score=-0.396 total time=   0.4s\n",
            "[CV 3/5] END .....C=100, gamma=0.1, kernel=rbf;, score=-0.362 total time=   0.4s\n",
            "[CV 4/5] END .....C=100, gamma=0.1, kernel=rbf;, score=-0.384 total time=   0.4s\n",
            "[CV 5/5] END .....C=100, gamma=0.1, kernel=rbf;, score=-0.346 total time=   0.4s\n"
          ]
        }
      ],
      "source": [
        "model.fit(x_train_rs,y_train_rs)"
      ]
    },
    {
      "cell_type": "code",
      "execution_count": null,
      "id": "c75e251d",
      "metadata": {
        "id": "c75e251d"
      },
      "outputs": [],
      "source": [
        "print(model.best_params_)\n",
        "print(model.best_score_)"
      ]
    },
    {
      "cell_type": "code",
      "execution_count": null,
      "id": "c044f8f8",
      "metadata": {
        "id": "c044f8f8"
      },
      "outputs": [],
      "source": [
        "model.predict(x_train_rs)"
      ]
    },
    {
      "cell_type": "code",
      "execution_count": null,
      "id": "2763a312",
      "metadata": {
        "id": "2763a312"
      },
      "outputs": [],
      "source": [
        "grid_model_predictions_rs = model.predict(x_test_rs)\n",
        "print(\"--------------------------------------\")\n",
        "print(\"Confusion Matrix\")\n",
        "print(confusion_matrix(y_test_rs,grid_model_predictions_rs))\n",
        "print(\"--------------------------------------\")\n",
        "print(\"Classification report\")\n",
        "print(classification_report(y_test_rs,grid_model_predictions_rs))\n",
        "print(\"--------------------------------------\")"
      ]
    },
    {
      "cell_type": "code",
      "execution_count": null,
      "id": "883a2aed",
      "metadata": {
        "id": "883a2aed"
      },
      "outputs": [],
      "source": [
        "from sklearn.linear_model import LogisticRegression"
      ]
    },
    {
      "cell_type": "code",
      "execution_count": null,
      "id": "8b317384",
      "metadata": {
        "id": "8b317384"
      },
      "outputs": [],
      "source": [
        "lr_model = LogisticRegression()"
      ]
    },
    {
      "cell_type": "code",
      "execution_count": null,
      "id": "672e60f4",
      "metadata": {
        "id": "672e60f4"
      },
      "outputs": [],
      "source": [
        "lr_model.fit(x_train_rs,y_train_rs)"
      ]
    },
    {
      "cell_type": "code",
      "execution_count": null,
      "id": "9f355349",
      "metadata": {
        "id": "9f355349"
      },
      "outputs": [],
      "source": [
        "lr_model.predict(x_train_rs)"
      ]
    },
    {
      "cell_type": "code",
      "execution_count": null,
      "id": "ad5540f6",
      "metadata": {
        "id": "ad5540f6"
      },
      "outputs": [],
      "source": [
        "lr_model_predictions = lr_model.predict(x_test_rs)\n",
        "print(\"--------------------------------------\")\n",
        "print(\"Confusion Matrix\")\n",
        "print(confusion_matrix(y_test_rs,lr_model_predictions))\n",
        "print(\"--------------------------------------\")\n",
        "print(\"Classification report\")\n",
        "print(classification_report(y_test_rs,lr_model_predictions))\n",
        "print(\"--------------------------------------\")"
      ]
    },
    {
      "cell_type": "code",
      "execution_count": null,
      "id": "b552c507",
      "metadata": {
        "id": "b552c507"
      },
      "outputs": [],
      "source": [
        "from sklearn.metrics import accuracy_score"
      ]
    },
    {
      "cell_type": "code",
      "execution_count": null,
      "id": "b1a43fab",
      "metadata": {
        "id": "b1a43fab"
      },
      "outputs": [],
      "source": [
        "print(\"Final Test Accuracy Score of all the Models\")\n",
        "print(\"-------------------------------------------\")\n",
        "print(\"SVC without optimization:\" , accuracy_score(y_test,y_pred_svc))\n",
        "print(\"SVC after grid search cv optimization:\", accuracy_score(y_test,grid_model_predictions))\n",
        "print(\"SVC after sampling using grid search cv:\", accuracy_score(y_test_rs,grid_model_predictions_rs))\n",
        "print(\"Logistic Regression:\", accuracy_score(y_test_rs,lr_model_predictions))"
      ]
    }
  ],
  "metadata": {
    "kernelspec": {
      "display_name": "Python 3 (ipykernel)",
      "language": "python",
      "name": "python3"
    },
    "language_info": {
      "codemirror_mode": {
        "name": "ipython",
        "version": 3
      },
      "file_extension": ".py",
      "mimetype": "text/x-python",
      "name": "python",
      "nbconvert_exporter": "python",
      "pygments_lexer": "ipython3",
      "version": "3.9.12"
    },
    "colab": {
      "provenance": []
    }
  },
  "nbformat": 4,
  "nbformat_minor": 5
}